{
  "cells": [
    {
      "cell_type": "markdown",
      "metadata": {
        "id": "g4mZ8KYblg-g"
      },
      "source": [
        "#installing dependencies"
      ]
    },
    {
      "cell_type": "code",
      "execution_count": 1,
      "metadata": {
        "colab": {
          "base_uri": "https://localhost:8080/"
        },
        "id": "C4tlwQ8si_FI",
        "outputId": "9ab171b7-955d-4aee-a129-bbcb78cd8d08"
      },
      "outputs": [
        {
          "name": "stdout",
          "output_type": "stream",
          "text": [
            "There are 1 GPU(s) available.\n",
            "We will use the GPU: NVIDIA GeForce GTX 1660 Ti\n",
            "Sat Mar 30 11:56:33 2024       \n",
            "+---------------------------------------------------------------------------------------+\n",
            "| NVIDIA-SMI 535.161.07             Driver Version: 535.161.07   CUDA Version: 12.2     |\n",
            "|-----------------------------------------+----------------------+----------------------+\n",
            "| GPU  Name                 Persistence-M | Bus-Id        Disp.A | Volatile Uncorr. ECC |\n",
            "| Fan  Temp   Perf          Pwr:Usage/Cap |         Memory-Usage | GPU-Util  Compute M. |\n",
            "|                                         |                      |               MIG M. |\n",
            "|=========================================+======================+======================|\n",
            "|   0  NVIDIA GeForce GTX 1660 Ti     Off | 00000000:01:00.0  On |                  N/A |\n",
            "|  0%   47C    P8              23W / 120W |    334MiB /  6144MiB |     38%      Default |\n",
            "|                                         |                      |                  N/A |\n",
            "+-----------------------------------------+----------------------+----------------------+\n",
            "                                                                                         \n",
            "+---------------------------------------------------------------------------------------+\n",
            "| Processes:                                                                            |\n",
            "|  GPU   GI   CI        PID   Type   Process name                            GPU Memory |\n",
            "|        ID   ID                                                             Usage      |\n",
            "|=======================================================================================|\n",
            "|    0   N/A  N/A      1538      G   /usr/lib/xorg/Xorg                          134MiB |\n",
            "|    0   N/A  N/A      1728      G   /usr/bin/gnome-shell                         29MiB |\n",
            "|    0   N/A  N/A      4168      G   ...54,262144 --variations-seed-version       62MiB |\n",
            "|    0   N/A  N/A    108014      G   ...sion,SpareRendererForSitePerProcess      102MiB |\n",
            "+---------------------------------------------------------------------------------------+\n"
          ]
        }
      ],
      "source": [
        "import torch\n",
        "\n",
        "# If there's a GPU available...\n",
        "if torch.cuda.is_available():\n",
        "\n",
        "    # Tell PyTorch to use the GPU.\n",
        "    device = torch.device(\"cuda\")\n",
        "\n",
        "    print('There are %d GPU(s) available.' % torch.cuda.device_count())\n",
        "\n",
        "    print('We will use the GPU:', torch.cuda.get_device_name(0))\n",
        "    !nvidia-smi\n",
        "\n",
        "# If not...\n",
        "else:\n",
        "    print('No GPU available, using the CPU instead.')\n",
        "    device = torch.device(\"cpu\")"
      ]
    },
    {
      "cell_type": "markdown",
      "metadata": {
        "id": "MaJf2e5VyNbK"
      },
      "source": [
        "This notebook works fine with transformers 4.12, it is not tested on newer versions"
      ]
    },
    {
      "cell_type": "markdown",
      "metadata": {
        "id": "3f3KKtL5yMub"
      },
      "source": [
        "Let's download some Arabic text classification datasets"
      ]
    },
    {
      "cell_type": "markdown",
      "metadata": {
        "id": "TVay9KamnC3I"
      },
      "source": [
        "#Creating training datasets"
      ]
    },
    {
      "cell_type": "code",
      "execution_count": 2,
      "metadata": {
        "id": "hr84ozGinCFh"
      },
      "outputs": [],
      "source": [
        "import pandas as pd\n",
        "import numpy as np\n",
        "from typing import List\n",
        "from tqdm import tqdm_notebook as tqdm\n",
        "from sklearn.model_selection import train_test_split"
      ]
    },
    {
      "cell_type": "markdown",
      "metadata": {
        "id": "3jD0IueryovK"
      },
      "source": [
        "This custom dataset class will help us hold our datasets in a structred manner.\n",
        "It's not necessary to use it with your own data"
      ]
    },
    {
      "cell_type": "code",
      "execution_count": 3,
      "metadata": {
        "id": "8PhWP2JzrEci"
      },
      "outputs": [],
      "source": [
        "class CustomDataset:\n",
        "    def __init__(\n",
        "        self,\n",
        "        name: str,\n",
        "        train: List[pd.DataFrame],\n",
        "        test: List[pd.DataFrame],\n",
        "        label_list: List[str],\n",
        "    ):\n",
        "        \"\"\"Class to hold and structure datasets.\n",
        "\n",
        "        Args:\n",
        "\n",
        "        name (str): holds the name of the dataset so we can select it later\n",
        "        train (List[pd.DataFrame]): holds training pandas dataframe with 2 columns [\"text\",\"label\"]\n",
        "        test (List[pd.DataFrame]): holds testing pandas dataframe with 2 columns [\"text\",\"label\"]\n",
        "        label_list (List[str]): holds the list  of labels\n",
        "        \"\"\"\n",
        "        self.name = name\n",
        "        self.train = train\n",
        "        self.test = test\n",
        "        self.label_list = label_list"
      ]
    },
    {
      "cell_type": "code",
      "execution_count": 4,
      "metadata": {
        "id": "-WYy5ikAs7l3"
      },
      "outputs": [],
      "source": [
        "# This will hold all the downloaded and structred datasets\n",
        "all_datasets= []\n",
        "DATA_COLUMN = \"text\"\n",
        "LABEL_COLUMN = \"label\""
      ]
    },
    {
      "cell_type": "markdown",
      "metadata": {
        "id": "3sHrgqmOzZ-4"
      },
      "source": [
        "You can choose which ever dataset you like or use your own.\n",
        "At this stage we don't do any preprocessing on the text, this is done later when loading the text."
      ]
    },
    {
      "cell_type": "markdown",
      "metadata": {
        "id": "joWPYWGMqLau"
      },
      "source": [
        "##HARD - Balanced"
      ]
    },
    {
      "cell_type": "code",
      "execution_count": 5,
      "metadata": {
        "colab": {
          "base_uri": "https://localhost:8080/"
        },
        "id": "-6oL3qkXmOgJ",
        "outputId": "45910e6b-2b6d-4d19-ea40-c1c5bdd7abb2"
      },
      "outputs": [],
      "source": [
        "# df_HARD = pd.read_csv(\"ArabicTweets.csv\", sep=\"\\t\", header=0,encoding='windows-1256')\n",
        "\n",
        "# df_HARD = df_HARD[[\"text\",\"label\"]]  # we are interested in rating and review only\n",
        "# df_HARD.columns = [DATA_COLUMN, LABEL_COLUMN]\n",
        "# print(df_HARD[LABEL_COLUMN].value_counts())\n",
        "# # code rating as +ve if > 3, -ve if less, no 3s in dataset\n",
        "\n",
        "# hard_map = {\n",
        "#     1: 'HUMAN',\n",
        "#     0: 'AI'\n",
        "# }\n",
        "\n",
        "# df_HARD[LABEL_COLUMN] = df_HARD[LABEL_COLUMN].apply(lambda x: hard_map[x])\n",
        "# train_HARD, test_HARD = train_test_split(df_HARD, test_size=0.2, random_state=42)\n",
        "# label_list_HARD = ['AI', 'HUMAN']\n",
        "\n",
        "# data_Hard = CustomDataset(\"HARD\", train_HARD, test_HARD, label_list_HARD)\n",
        "# all_datasets.append(data_Hard)"
      ]
    },
    {
      "cell_type": "markdown",
      "metadata": {
        "id": "sycNXzvgr7BZ"
      },
      "source": [
        "##ASTD- Unbalanced"
      ]
    },
    {
      "cell_type": "code",
      "execution_count": 6,
      "metadata": {
        "colab": {
          "base_uri": "https://localhost:8080/"
        },
        "id": "wapHixOBrq5U",
        "outputId": "0d9f558d-efd2-4f45-9a92-daa49e30f213"
      },
      "outputs": [
        {
          "name": "stdout",
          "output_type": "stream",
          "text": [
            "[1, 0]\n",
            "label\n",
            "1    157197\n",
            "0     10028\n",
            "Name: count, dtype: int64\n"
          ]
        }
      ],
      "source": [
        "df_ASTD_UN = pd.read_csv(\n",
        "    \"ArabicTweets.csv\", encoding=\"windows-1256\"\n",
        "    )\n",
        "\n",
        "df_ASTD_UN.columns = [DATA_COLUMN, LABEL_COLUMN]\n",
        "\n",
        "df_ASTD_UN = df_ASTD_UN[df_ASTD_UN[LABEL_COLUMN]!= 'OBJ']\n",
        "\n",
        "train_ASTD_UN, test_ASTD_UN = train_test_split(\n",
        "    df_ASTD_UN, test_size=0.2, random_state=42\n",
        ")\n",
        "\n",
        "label_list_ASTD_UN = list(df_ASTD_UN[LABEL_COLUMN].unique())\n",
        "print(label_list_ASTD_UN)\n",
        "print(df_ASTD_UN[LABEL_COLUMN].value_counts())\n",
        "\n",
        "data_ASTD_UN = CustomDataset(\n",
        "    \"ASTD-Unbalanced\", train_ASTD_UN, test_ASTD_UN, label_list_ASTD_UN\n",
        ")\n",
        "\n",
        "all_datasets.append(data_ASTD_UN)"
      ]
    },
    {
      "cell_type": "markdown",
      "metadata": {
        "id": "bgmdEZhgssMM"
      },
      "source": [
        "##ASTD-Dahou-Balanced"
      ]
    },
    {
      "cell_type": "code",
      "execution_count": null,
      "metadata": {
        "id": "C7Dss2k4sPMo"
      },
      "outputs": [],
      "source": [
        "# df_ASTD_B = pd.read_csv(\n",
        "#     \"ArabicTweets.csv\",\n",
        "#     encoding=\"windows-1256\",\n",
        "# )\n",
        "\n",
        "# df_ASTD_B.columns = [DATA_COLUMN, LABEL_COLUMN]\n",
        "\n",
        "# df_ASTD_B[LABEL_COLUMN] = df_ASTD_B[LABEL_COLUMN].apply(lambda x: 'NEG' if (x == -1) else 'POS')\n",
        "\n",
        "# train_ASTD_B, test_ASTD_B = train_test_split(df_ASTD_B, test_size=0.2, random_state=42)\n",
        "# label_list_ASTD_B = list(df_ASTD_B[LABEL_COLUMN].unique())\n",
        "\n",
        "# print(label_list_ASTD_B)\n",
        "# print(df_ASTD_B[LABEL_COLUMN].value_counts())\n",
        "\n",
        "# data_ASTD_B = CustomDataset(\n",
        "#     \"ASTD-Dahou-Balanced\", train_ASTD_B, test_ASTD_B, label_list_ASTD_B\n",
        "# )\n",
        "# all_datasets.append(data_ASTD_B)"
      ]
    },
    {
      "cell_type": "markdown",
      "metadata": {
        "id": "5EZF6bJbtq5X"
      },
      "source": [
        "##Arsentv-lev"
      ]
    },
    {
      "cell_type": "markdown",
      "metadata": {
        "id": "FZbz2CRa2RX8"
      },
      "source": [
        "You need to manualy get the ArSenTD-LEV.tsv before running this"
      ]
    },
    {
      "cell_type": "code",
      "execution_count": null,
      "metadata": {
        "id": "5HIHvLQPtRZo"
      },
      "outputs": [],
      "source": [
        "# df_ArSenTD = pd.read_csv(\n",
        "#     \"/content/drive/MyDrive/Datasets/ArSenTD-LEV/ArSenTD-LEV.tsv\", sep=\"\\t\", header=0\n",
        "# )\n",
        "\n",
        "# df_ArSenTD = df_ArSenTD[['Tweet','Sentiment']]\n",
        "\n",
        "# df_ArSenTD.columns = [DATA_COLUMN, LABEL_COLUMN]\n",
        "\n",
        "# print(df_ArSenTD[LABEL_COLUMN].value_counts())\n",
        "# label_list_ArSenTD = list(df_ArSenTD[LABEL_COLUMN].unique())\n",
        "\n",
        "# train_ArSenTD, test_ArSenTD = train_test_split(\n",
        "#     df_ArSenTD, test_size=0.2, random_state=42\n",
        "# )\n",
        "\n",
        "# data_ArSenTD = CustomDataset(\"ArSenTD-LEV\", train_ArSenTD, test_ArSenTD, label_list_ArSenTD)\n",
        "# all_datasets.append(data_ArSenTD)"
      ]
    },
    {
      "cell_type": "markdown",
      "metadata": {
        "id": "MA5607R9jU3a"
      },
      "source": [
        "##AJGT"
      ]
    },
    {
      "cell_type": "code",
      "execution_count": null,
      "metadata": {
        "colab": {
          "base_uri": "https://localhost:8080/"
        },
        "id": "Bww9o0i7uQSd",
        "outputId": "37f82b01-50c1-4848-9349-33f5a92a07ba"
      },
      "outputs": [],
      "source": [
        "# df_AJGT = pd.read_excel(\"/content/drive/My Drive/Datasets/Ajgt/AJGT.xlsx\", header=0)\n",
        "\n",
        "# df_AJGT = df_AJGT[[\"Feed\", \"Sentiment\"]]\n",
        "# df_AJGT.columns = [DATA_COLUMN, LABEL_COLUMN]\n",
        "\n",
        "\n",
        "\n",
        "# train_AJGT, test_AJGT = train_test_split(df_AJGT, test_size=0.2, random_state=42)\n",
        "\n",
        "# print(df_AJGT[LABEL_COLUMN].value_counts())\n",
        "# label_list_AJGT = list(df_AJGT[LABEL_COLUMN].unique())\n",
        "\n",
        "# data_AJGT = CustomDataset(\"AJGT\", train_AJGT, test_AJGT, label_list_AJGT)\n",
        "# all_datasets.append(data_AJGT)"
      ]
    },
    {
      "cell_type": "markdown",
      "metadata": {
        "id": "AANFYzSruvH9"
      },
      "source": [
        "##LABR-Unbalanced"
      ]
    },
    {
      "cell_type": "code",
      "execution_count": null,
      "metadata": {
        "cellView": "form",
        "colab": {
          "base_uri": "https://localhost:8080/"
        },
        "id": "uqig9TYmtac8",
        "outputId": "6fbdb623-a400-4180-f47c-f20f08da6a18"
      },
      "outputs": [],
      "source": [
        "# #@title\n",
        "# %%writefile labr.py\n",
        "# # -*- coding: utf-8 -*-\n",
        "# \"\"\"\n",
        "# Created on Sun Mar 10 16:27:03 2013\n",
        "\n",
        "# @author: Mohamed Aly <mohamed@mohamedaly.info>\n",
        "# \"\"\"\n",
        "\n",
        "# import codecs\n",
        "# import numpy as np\n",
        "# import pandas as pd\n",
        "# import re\n",
        "\n",
        "# class LABR:\n",
        "#     def __init__(self):\n",
        "#         self.REVIEWS_PATH = \"LABR/data/\"\n",
        "#         self.RAW_REVIEWS_FILE = \"raw_reviews.tsv\"\n",
        "#         self.DELETED_REVIEWS_FILE = \"deleted_reviews.tsv\"\n",
        "#         self.CLEAN_REVIEWS_FILE = \"reviews.tsv\"\n",
        "\n",
        "#     # Copied from the PyArabic package.\n",
        "#     def arabicrange(self):\n",
        "#         \"\"\"return a list of arabic characteres .\n",
        "#         Return a list of characteres between \\u060c to \\u0652\n",
        "#         @return: list of arabic characteres.\n",
        "#         @rtype: unicode;\n",
        "#         \"\"\"\n",
        "#         mylist=[];\n",
        "#         for i in range(0x0600, 0x00653):\n",
        "#             try :\n",
        "#                 mylist.append(unichr(i));\n",
        "#             except ValueError:\n",
        "#                 pass;\n",
        "#         return mylist;\n",
        "\n",
        "#     # cleans a single review\n",
        "#     def clean_raw_review(self, body):\n",
        "#          # patterns to remove first\n",
        "#         pat = [\\\n",
        "#             (u'http[s]?://[a-zA-Z0-9_\\-./~\\?=%&]+', u''),               # remove links\n",
        "#             (u'www[a-zA-Z0-9_\\-?=%&/.~]+', u''),\n",
        "# #            u'\\n+': u' ',                     # remove newlines\n",
        "#             (u'<br />', u' '),                  # remove html line breaks\n",
        "#             (u'</?[^>]+>', u' '),              # remove html markup\n",
        "# #            u'http': u'',\n",
        "#             (u'[a-zA-Z]+\\.org', u''),\n",
        "#             (u'[a-zA-Z]+\\.com', u''),\n",
        "#             (u'://', u''),\n",
        "#             (u'&[^;]+;', u' '),\n",
        "#             (u':D', u':)'),\n",
        "# #            (u'[0-9/]+', u''),\n",
        "# #            u'[a-zA-Z.]+': u'',\n",
        "# #            u'[^0-9' + u''.join(self.arabicrange()) + \\\n",
        "# #                u\"!.,;:$%&*%'#(){}~`\\[\\]/\\\\\\\\\\\"\" + \\\n",
        "# #                u'\\s^><\\-_\\u201D\\u00AB=\\u2026]+': u'',          # remove latin characters\n",
        "#             (u'\\s+', u' '),                     # remove spaces\n",
        "#             (u'\\.+', u'.'),                     # multiple dots\n",
        "#             (u'[\\u201C\\u201D]', u'\"'),          #“\n",
        "#             (u'[\\u2665\\u2764]', u''),           # heart symbol\n",
        "#             (u'[\\u00BB\\u00AB]', u'\"'),\n",
        "#             (u'\\u2013', u'-'),                # dash\n",
        "#         ]\n",
        "\n",
        "#         # patterns that disqualify a review\n",
        "#         remove_if_there = [\\\n",
        "#             (u'[^0-9' + u''.join(self.arabicrange()) + \\\n",
        "#                 u\"!.,;:$%&*%'#(){}~`\\[\\]/\\\\\\\\\\\"\" + \\\n",
        "#                 u'\\s\\^><\\-_\\u201D\\u00AB=\\u2026+|' + \\\n",
        "#                 u'\\u0660-\\u066D\\u201C\\u201D' + \\\n",
        "#                 u'\\ufefb\\ufef7\\ufef5\\ufef9]+', u''),                   # non arabic characters\n",
        "#         ]\n",
        "\n",
        "#         # patterns that disqualify if empty after removing\n",
        "#         remove_if_empty_after = [\\\n",
        "#             (u'[0-9a-zA-Z\\-_]', u' '),             #alpha-numeric\n",
        "#             (u'[0-9' + u\".,!;:$%&*%'#(){}~`\\[\\]/\\\\\\\\\\\"\" + \\\n",
        "#                 u'\\s\\^><`\\-=_+]+', u''),                  # remove just punctuation\n",
        "#             (u'\\s+', u' '),                     # remove spaces\n",
        "#         ]\n",
        "\n",
        "#         # remove again\n",
        "#         # patterns to remove\n",
        "#         pat2 = [\\\n",
        "# #            u'[^0-9' + u''.join(self.arabicrange()) + \\\n",
        "# #                u\"!.,;:$%&*%'#(){}~`\\[\\]/\\\\\\\\\\\"\" + \\\n",
        "# #                u'\\s^><\\-_\\u201D\\u00AB=\\u2026]+': u'',          # remove latin characters\n",
        "#         ]\n",
        "\n",
        "#         skip = False\n",
        "\n",
        "#         # if empty body, skip\n",
        "#         if body == u'': skip = True\n",
        "\n",
        "#         # do some subsitutions\n",
        "#         for k,v in pat:\n",
        "#             body = re.sub(k, v, body)\n",
        "\n",
        "#         # remove if exist\n",
        "#         for k,v in remove_if_there:\n",
        "#             if re.search(k, body):\n",
        "#                 skip = True\n",
        "\n",
        "#         # remove if empty after replacing\n",
        "#         for k,v in remove_if_empty_after:\n",
        "#             temp = re.sub(k, v, body)\n",
        "#             if temp == u\" \" or temp == u\"\":\n",
        "#                 skip = True\n",
        "\n",
        "#         # do some more subsitutions\n",
        "#         if not skip:\n",
        "#             for k,v in pat2:\n",
        "#                 body = re.sub(k, v, body)\n",
        "\n",
        "#         # if empty string, skip\n",
        "#         if body == u'' or body == u' ':\n",
        "#             skip = True\n",
        "\n",
        "#         if not skip:\n",
        "#             return body\n",
        "#         else:\n",
        "#             return u\"\"\n",
        "\n",
        "#     # Read raw reviews from file and clean and write into clean_reviews\n",
        "#     def clean_raw_reviews(self):\n",
        "#         # input file\n",
        "#         in_file = codecs.open(self.REVIEWS_PATH + self.RAW_REVIEWS_FILE,\n",
        "#                               'r', encoding=\"utf-8\")\n",
        "#         reviews = in_file.readlines()\n",
        "\n",
        "#         # Output file: rating<tab>content\n",
        "#         out_file = open(self.REVIEWS_PATH + self.CLEAN_REVIEWS_FILE,\n",
        "#                         'w', buffering = 100)\n",
        "#         deleted_file = open(self.REVIEWS_PATH + self.DELETED_REVIEWS_FILE,\n",
        "#                             'w', buffering = 100)\n",
        "\n",
        "#         counter = 1\n",
        "#         for i in xrange(0, len(reviews)):\n",
        "#             review = reviews[i]\n",
        "#             skip = False\n",
        "\n",
        "# #           # If line starts with #, then skip\n",
        "# #            if review[0] == u\"#\": continue\n",
        "\n",
        "#             # split by <tab>\n",
        "#             parts = review.split(u\"\\t\")\n",
        "\n",
        "#             # rating is first part and body is last part\n",
        "#             rating = parts[0]\n",
        "#             review_id = parts[1]\n",
        "#             user_id = parts[2]\n",
        "#             book_id = parts[3]\n",
        "#             body = parts[4].strip()\n",
        "\n",
        "#             # clean body\n",
        "#             body = self.clean_raw_review(body)\n",
        "#             if body == u\"\": skip = True\n",
        "\n",
        "#             if i % 5000 == 0:\n",
        "#                 print(\"review %d:\" % (i))\n",
        "\n",
        "#             # write output\n",
        "#             line = u\"%s\\t%s\\t%s\\t%s\\t%s\\n\" % (rating, review_id, user_id,\n",
        "#                                               book_id, body)\n",
        "#             if not skip:\n",
        "#                 out_file.write(line.encode('utf-8'))\n",
        "#                 counter += 1\n",
        "#             else:\n",
        "#                 deleted_file.write(line.encode('utf-8'))\n",
        "\n",
        "#     # Read the reviews file. Returns a tuple containing these lists:\n",
        "#     #   rating: the rating 1 -> 5\n",
        "#     #   review_id: the id of the review\n",
        "#     #   user_id: the id of the user\n",
        "#     #   book_id: the id of the book\n",
        "#     #   body: the text of the review\n",
        "#     def read_review_file(self, file_name):\n",
        "#         reviews = codecs.open(file_name, 'r', 'utf-8').readlines()\n",
        "\n",
        "#         # remove comment lines and newlines\n",
        "#         reviews = [r.strip() for r in reviews if r[0] != u'#']\n",
        "\n",
        "#         # parse\n",
        "#         rating = list()\n",
        "#         review_id = list()\n",
        "#         user_id = list()\n",
        "#         book_id = list()\n",
        "#         body = list()\n",
        "#         for review in reviews:\n",
        "#             # split by <tab>\n",
        "#             parts = review.split(u\"\\t\")\n",
        "\n",
        "#             # rating is first part and body is last part\n",
        "#             rating.append(int(parts[0]))\n",
        "#             review_id.append(parts[1])\n",
        "#             user_id.append(parts[2])\n",
        "#             book_id.append(parts[3])\n",
        "#             if len(parts) > 4:\n",
        "#                 body.append(parts[4])\n",
        "#             else:\n",
        "#                 body.append(u\"\")\n",
        "\n",
        "#         return (rating, review_id, user_id, book_id, body)\n",
        "\n",
        "#     # Writes reviews to a file\n",
        "#     def write_review_file(self, file_name, rating, review_id, user_id,\n",
        "#                           book_id, body):\n",
        "\n",
        "#         lines = list()\n",
        "#         # loop\n",
        "#         for i in xrange(len(rating)):\n",
        "#             line = u\"%s\\t%s\\t%s\\t%s\\t%s\\n\" % (rating[i], review_id[i],\n",
        "#                                               user_id[i], book_id[i],\n",
        "#                                               body[i])\n",
        "#             lines.append(line)\n",
        "\n",
        "#         open(file_name, 'w').write(u''.join(lines).encode('utf-8'))\n",
        "\n",
        "#     def read_clean_reviews(self):\n",
        "#         return self.read_review_file(self.REVIEWS_PATH +\n",
        "#                                      self.CLEAN_REVIEWS_FILE)\n",
        "\n",
        "#     def read_raw_reviews(self):\n",
        "#         return self.read_review_file(self.REVIEWS_PATH + self.RAW_REVIEWS_FILE)\n",
        "\n",
        "#     # Splits the dataset into a training/test sets in the setting of using 5\n",
        "#     # classes (predicting the rating value from 1 to 5)\n",
        "#     def split_train_test_5class(self, rating, percent_test,\n",
        "#                                 balanced = \"unbalanced\"):\n",
        "#         np.random.seed(1234)\n",
        "\n",
        "#         num_reviews = len(rating)\n",
        "#         review_ids = np.arange(0, num_reviews)\n",
        "\n",
        "#         if balanced == \"unbalanced\":\n",
        "#             ntest = np.floor(num_reviews * percent_test)\n",
        "#             np.random.shuffle(review_ids)\n",
        "\n",
        "#             test_ids = review_ids[:ntest]\n",
        "#             train_ids = review_ids[ntest:]\n",
        "\n",
        "#         elif balanced == \"balanced\":\n",
        "#             (sizes, bins) = np.histogram(rating, [1, 2, 3, 4, 5, 6])\n",
        "#             min_size = np.min(sizes)\n",
        "#             print(min_size)\n",
        "\n",
        "#             # sample review ids equally among classes\n",
        "#             test_ids = np.zeros((0,), dtype=\"int32\")\n",
        "#             train_ids = np.zeros((0,), dtype=\"int32\")\n",
        "#             rating = np.array(rating)\n",
        "#             ntest = np.floor(min_size * percent_test)\n",
        "#             for c in range(1, 6):\n",
        "#                 cids = review_ids[np.nonzero(rating == c)]\n",
        "#                 np.random.shuffle(cids)\n",
        "\n",
        "#                 test_ids = np.r_[test_ids, cids[:ntest]]\n",
        "#                 train_ids = np.r_[train_ids, cids[ntest:min_size]]\n",
        "\n",
        "#         train_file = self.REVIEWS_PATH + \"5class-\" + balanced+ \"-train.txt\"\n",
        "#         test_file = self.REVIEWS_PATH + \"5class-\" + balanced+ \"-test.txt\"\n",
        "\n",
        "#         open(train_file, 'w').write('\\n'.join(map(str, train_ids)))\n",
        "#         open(test_file, 'w').write('\\n'.join(map(str, test_ids)))\n",
        "\n",
        "#         return (train_ids, test_ids)\n",
        "\n",
        "#     # Splits the dataset into a training/test sets in the setting of using 2\n",
        "#     # classes (predicting the polarity of the review where ratings 1 & 2\n",
        "#     # are considered negative, ratings 4 & 5 are positive, and rating 3 is\n",
        "#     # ignored)\n",
        "#     def split_train_test_2class(self, rating, percent_test,\n",
        "#                                 balanced = \"unbalanced\"):\n",
        "#         np.random.seed(1234)\n",
        "\n",
        "#         rating = np.array(rating, dtype='int32')\n",
        "#         # length\n",
        "#         num_reviews = len(rating)\n",
        "#         review_ids = np.arange(0, num_reviews)\n",
        "\n",
        "#         # convert to binary, with ratings [1, 2] --> neg and [4, 5] --> pos\n",
        "#         rating[rating == 2] = 1\n",
        "#         rating[rating == 4] = 5\n",
        "\n",
        "#         ids = (rating == 1) + (rating == 5)\n",
        "#         review_ids = review_ids[ids]\n",
        "#         rating = rating[ids]\n",
        "#         rating[rating == 1] = 0\n",
        "#         rating[rating == 5] = 1\n",
        "\n",
        "#         # get length after filtering\n",
        "#         num_reviews = rating.shape[0]\n",
        "\n",
        "#         if balanced == \"unbalanced\":\n",
        "#             ntest = np.floor(num_reviews * percent_test)\n",
        "#             np.random.shuffle(review_ids)\n",
        "\n",
        "#             test_ids = review_ids[:ntest]\n",
        "#             train_ids = review_ids[ntest:]\n",
        "\n",
        "#         elif balanced == \"balanced\":\n",
        "#             (sizes, bins) = np.histogram(rating, [0, 1, 2])\n",
        "#             min_size = np.min(sizes)\n",
        "#             print(min_size)\n",
        "\n",
        "#             # sample review ids equally among classes\n",
        "#             test_ids = np.zeros((0,), dtype=\"int32\")\n",
        "#             train_ids = np.zeros((0,), dtype=\"int32\")\n",
        "#             rating = np.array(rating)\n",
        "#             ntest = np.floor(min_size * percent_test)\n",
        "#             for c in [0, 1]:\n",
        "#                 cids = review_ids[np.nonzero(rating == c)]\n",
        "#                 np.random.shuffle(cids)\n",
        "\n",
        "#                 test_ids = np.r_[test_ids, cids[:ntest]]\n",
        "#                 train_ids = np.r_[train_ids, cids[ntest:min_size]]\n",
        "\n",
        "#         train_file = self.REVIEWS_PATH + \"2class-\" + balanced+ \"-train.txt\"\n",
        "#         test_file = self.REVIEWS_PATH + \"2class-\" + balanced+ \"-test.txt\"\n",
        "\n",
        "#         open(train_file, 'w').write('\\n'.join(map(str, train_ids)))\n",
        "#         open(test_file, 'w').write('\\n'.join(map(str, test_ids)))\n",
        "\n",
        "#         return (train_ids, test_ids)\n",
        "\n",
        "#     # Reads a training or test file. The file contains the indices of the\n",
        "#     # reviews from the clean reviews file.\n",
        "#     def read_train_test_file(self, file_name):\n",
        "#         ins = open(file_name).readlines()\n",
        "#         ins = [int(i.strip()) for i in ins]\n",
        "\n",
        "#         return ins\n",
        "\n",
        "#     # A helpter function.\n",
        "#     def set_binary_klass(self, ar):\n",
        "#         ar[(ar == 1) + (ar == 2)] = 0\n",
        "#         ar[(ar == 4) + (ar == 5)] = 1\n",
        "\n",
        "#     # Returns (train_x, train_y, test_x, test_y)\n",
        "#     # where x is the review body and y is the rating (1->5 or 0->1)\n",
        "#     def get_train_test(self, klass = \"2\", balanced = \"balanced\"):\n",
        "#         (rating, a, b, c, body) = self.read_clean_reviews()\n",
        "#         rating = np.array(rating)\n",
        "#         body = pd.Series(body)\n",
        "\n",
        "#         train_file = (self.REVIEWS_PATH + klass + \"class-\" +\n",
        "#             balanced+ \"-train.txt\")\n",
        "#         test_file = (self.REVIEWS_PATH + klass + \"class-\" +\n",
        "#             balanced+ \"-test.txt\")\n",
        "\n",
        "#         train_ids = self.read_train_test_file(train_file)\n",
        "#         test_ids = self.read_train_test_file(test_file)\n",
        "\n",
        "#         train_y = rating[train_ids]\n",
        "#         test_y = rating[test_ids]\n",
        "#         train_x = body[train_ids]\n",
        "#         test_x = body[test_ids]\n",
        "\n",
        "#         if klass == \"2\":\n",
        "#             self.set_binary_klass(train_y)\n",
        "#             self.set_binary_klass(test_y)\n",
        "\n",
        "#         return (train_x, train_y, test_x, test_y)\n"
      ]
    },
    {
      "cell_type": "code",
      "execution_count": null,
      "metadata": {
        "colab": {
          "base_uri": "https://localhost:8080/"
        },
        "id": "w-HpWYH1umBb",
        "outputId": "fa0e27cc-dd51-4260-ed91-ab6df1968701"
      },
      "outputs": [],
      "source": [
        "# from labr import LABR\n",
        "\n",
        "# labr_helper = LABR()\n",
        "\n",
        "# (d_train, y_train, d_test, y_test) = labr_helper.get_train_test(\n",
        "#     klass=\"2\", balanced=\"unbalanced\"\n",
        "# )\n",
        "\n",
        "# train_LABR_B_U = pd.DataFrame({DATA_COLUMN: d_train, LABEL_COLUMN: y_train})\n",
        "# test_LABR_B_U = pd.DataFrame({DATA_COLUMN: d_test, LABEL_COLUMN: y_test})\n",
        "\n",
        "# train_LABR_B_U[LABEL_COLUMN] = train_LABR_B_U[LABEL_COLUMN].apply(lambda x: 'NEG' if (x == 0) else 'POS')\n",
        "# test_LABR_B_U[LABEL_COLUMN] = test_LABR_B_U[LABEL_COLUMN].apply(lambda x: 'NEG' if (x == 0) else 'POS')\n",
        "\n",
        "# print(train_LABR_B_U[LABEL_COLUMN].value_counts() + test_LABR_B_U[LABEL_COLUMN].value_counts())\n",
        "# label_list_LABR_B_U = list(test_LABR_B_U[LABEL_COLUMN].unique())\n",
        "\n",
        "# data_LABR_B_U = CustomDataset(\n",
        "#     \"LABR-UN-Binary\", train_LABR_B_U, test_LABR_B_U, label_list_LABR_B_U\n",
        "# )\n",
        "# all_datasets.append(data_LABR_B_U)"
      ]
    },
    {
      "cell_type": "code",
      "execution_count": null,
      "metadata": {
        "colab": {
          "base_uri": "https://localhost:8080/"
        },
        "id": "JFYs8DEEvHoX",
        "outputId": "4e3a45b7-c8db-4332-8e76-89b94ae62e8b"
      },
      "outputs": [],
      "source": [
        "# for x in all_datasets:\n",
        "#   print(x.name)"
      ]
    },
    {
      "cell_type": "markdown",
      "metadata": {
        "id": "blL_Z_oQ2gY9"
      },
      "source": [
        "## ArSAS"
      ]
    },
    {
      "cell_type": "code",
      "execution_count": null,
      "metadata": {
        "colab": {
          "base_uri": "https://localhost:8080/"
        },
        "id": "mOiRKNPy2wFL",
        "outputId": "fb6480bb-7923-43ae-acd5-7b8ad04f38d5"
      },
      "outputs": [],
      "source": [
        "# df_ArSAS = pd.read_csv(\"/content/ArSAS..txt\", sep=\"\\t\",encoding='utf-8')\n",
        "# df_ArSAS = df_ArSAS[[\"Tweet_text\",\"Sentiment_label\"]]  # we are interested in rating and review only\n",
        "# df_ArSAS.columns = [DATA_COLUMN, LABEL_COLUMN]\n",
        "# print(\"Total length: \", len(df_ArSAS))\n",
        "# print(df_ArSAS[LABEL_COLUMN].value_counts())\n",
        "\n",
        "# label_list_ArSAS = list(df_ArSAS[LABEL_COLUMN].unique())\n",
        "# print(label_list_ArSAS)\n",
        "\n",
        "# train_ArSAS, test_ArSAS = train_test_split(df_ArSAS, test_size=0.2, random_state=42)\n",
        "# print(\"Training length: \", len(train_ArSAS))\n",
        "# print(\"Testing length: \", len(test_ArSAS))\n",
        "# data_ArSAS = CustomDataset(\"ArSAS\", train_ArSAS, test_ArSAS, label_list_ArSAS)\n",
        "# all_datasets.append(data_ArSAS)"
      ]
    },
    {
      "cell_type": "markdown",
      "metadata": {
        "id": "Bcwdslw7v0Q8"
      },
      "source": [
        "#Trainer"
      ]
    },
    {
      "cell_type": "markdown",
      "metadata": {
        "id": "fhcYKB663eoz"
      },
      "source": [
        "Start the training procedure"
      ]
    },
    {
      "cell_type": "code",
      "execution_count": null,
      "metadata": {
        "id": "HUn2RB6Bvrxj"
      },
      "outputs": [],
      "source": [
        "import numpy as np\n",
        "import torch\n",
        "import random\n",
        "import matplotlib.pyplot as plt\n",
        "import copy\n",
        "\n",
        "from arabert.preprocess import ArabertPreprocessor\n",
        "from sklearn.metrics import (accuracy_score, classification_report,\n",
        "                             confusion_matrix, f1_score, precision_score,\n",
        "                             recall_score)\n",
        "from torch.utils.data import DataLoader, Dataset\n",
        "from transformers import (AutoConfig, AutoModelForSequenceClassification,\n",
        "                          AutoTokenizer, BertTokenizer, Trainer,\n",
        "                          TrainingArguments)\n",
        "from transformers.data.processors.utils import InputFeatures"
      ]
    },
    {
      "cell_type": "markdown",
      "metadata": {
        "id": "0tv-ZwCt3iZE"
      },
      "source": [
        "List all the datasets we have"
      ]
    },
    {
      "cell_type": "code",
      "execution_count": null,
      "metadata": {
        "colab": {
          "base_uri": "https://localhost:8080/"
        },
        "id": "R4SGYoB2EDJD",
        "outputId": "f226e598-2aa3-45e0-fe2a-78c150b3a807"
      },
      "outputs": [],
      "source": [
        "for x in all_datasets:\n",
        "  print(x.name)"
      ]
    },
    {
      "cell_type": "code",
      "execution_count": null,
      "metadata": {
        "id": "vzeVFoz1wDYf"
      },
      "outputs": [],
      "source": [
        "# select a dataset\n",
        "dataset_name = 'ArSAS'\n",
        "# select a model from the huggingface modelhub https://huggingface.co/models?language=ar\n",
        "model_name = 'aubmindlab/bert-base-arabertv02-twitter' # we are going to use the twitter AraBERT since it has emojis and dialects"
      ]
    },
    {
      "cell_type": "code",
      "execution_count": null,
      "metadata": {
        "colab": {
          "base_uri": "https://localhost:8080/"
        },
        "id": "_ieCOj90aw8X",
        "outputId": "33b4bb6a-452a-476b-d133-7d392c710aba"
      },
      "outputs": [],
      "source": [
        "for d in all_datasets:\n",
        "  if d.name==dataset_name:\n",
        "    selected_dataset = copy.deepcopy(d)\n",
        "    print('Dataset found')\n",
        "    break"
      ]
    },
    {
      "cell_type": "markdown",
      "metadata": {
        "id": "Icuhwx3S4NLM"
      },
      "source": [
        "Create and apply preprocessing using the AraBERT processor"
      ]
    },
    {
      "cell_type": "code",
      "execution_count": null,
      "metadata": {
        "id": "lt_lGy85zuca"
      },
      "outputs": [],
      "source": [
        "arabic_prep = ArabertPreprocessor(model_name)\n",
        "\n",
        "selected_dataset.train[DATA_COLUMN] = selected_dataset.train[DATA_COLUMN].apply(lambda x: arabic_prep.preprocess(x))\n",
        "selected_dataset.test[DATA_COLUMN] = selected_dataset.test[DATA_COLUMN].apply(lambda x: arabic_prep.preprocess(x))"
      ]
    },
    {
      "cell_type": "code",
      "execution_count": null,
      "metadata": {
        "colab": {
          "base_uri": "https://localhost:8080/"
        },
        "id": "v-tHPrqeEqHm",
        "outputId": "7700068c-1db0-4040-e7db-fb7fb587d39c"
      },
      "outputs": [],
      "source": [
        "# Sanity check on the dataset\n",
        "list(selected_dataset.train[DATA_COLUMN][0:10])"
      ]
    },
    {
      "cell_type": "markdown",
      "metadata": {
        "id": "BH2yldN-4vcX"
      },
      "source": [
        "Now we need to check the tokenized sentence length to decide on the maximum sentence length value"
      ]
    },
    {
      "cell_type": "code",
      "execution_count": null,
      "metadata": {
        "id": "IOVdVmfEguAT"
      },
      "outputs": [],
      "source": [
        "tok = AutoTokenizer.from_pretrained(model_name)"
      ]
    },
    {
      "cell_type": "code",
      "execution_count": null,
      "metadata": {
        "colab": {
          "base_uri": "https://localhost:8080/",
          "height": 564
        },
        "id": "pP5ziUabgpeb",
        "outputId": "7eafcfec-9f0a-42e2-e45c-9765e402216d"
      },
      "outputs": [],
      "source": [
        "print(\"Training Sentence Lengths: \")\n",
        "plt.hist([ len(tok.tokenize(sentence)) for sentence in selected_dataset.train[DATA_COLUMN].to_list()],bins=range(0,128,2))\n",
        "plt.show()\n",
        "\n",
        "print(\"Testing Sentence Lengths: \")\n",
        "plt.hist([ len(tok.tokenize(sentence)) for sentence in selected_dataset.test[DATA_COLUMN].to_list()],bins=range(0,128,2))\n",
        "plt.show()"
      ]
    },
    {
      "cell_type": "markdown",
      "metadata": {
        "id": "GSDt3uyd5K2C"
      },
      "source": [
        "Let's select 100 as our maximum sentence length, and check how many sequences will be truncated"
      ]
    },
    {
      "cell_type": "code",
      "execution_count": null,
      "metadata": {
        "id": "09RumWom5bG2"
      },
      "outputs": [],
      "source": [
        "max_len = 128"
      ]
    },
    {
      "cell_type": "code",
      "execution_count": null,
      "metadata": {
        "colab": {
          "base_uri": "https://localhost:8080/"
        },
        "id": "SLhNqO2w5DIn",
        "outputId": "fec6d383-3b64-434f-cb0e-d6c514647c2e"
      },
      "outputs": [],
      "source": [
        "print(\"Truncated training sequences: \", sum([len(tok.tokenize(sentence)) > max_len for sentence in selected_dataset.test[DATA_COLUMN].to_list()]))\n",
        "\n",
        "print(\"Truncated testing sequences: \", sum([len(tok.tokenize(sentence)) > max_len for sentence in selected_dataset.test[DATA_COLUMN].to_list()]))"
      ]
    },
    {
      "cell_type": "markdown",
      "metadata": {
        "id": "gwDilG055gtf"
      },
      "source": [
        "8 out of ~4000 for testing isn't bad"
      ]
    },
    {
      "cell_type": "markdown",
      "metadata": {
        "id": "yqENWrht6A5n"
      },
      "source": [
        "Now let's create a classification dataset to load the data"
      ]
    },
    {
      "cell_type": "code",
      "execution_count": null,
      "metadata": {
        "id": "4YS7XI2bZTyz"
      },
      "outputs": [],
      "source": [
        "class ClassificationDataset(Dataset):\n",
        "    def __init__(self, text, target, model_name, max_len, label_map):\n",
        "      super(ClassificationDataset).__init__()\n",
        "      \"\"\"\n",
        "      Args:\n",
        "      text (List[str]): List of the training text\n",
        "      target (List[str]): List of the training labels\n",
        "      tokenizer_name (str): The tokenizer name (same as model_name).\n",
        "      max_len (int): Maximum sentence length\n",
        "      label_map (Dict[str,int]): A dictionary that maps the class labels to integer\n",
        "      \"\"\"\n",
        "      self.text = text\n",
        "      self.target = target\n",
        "      self.tokenizer_name = model_name\n",
        "      self.tokenizer = AutoTokenizer.from_pretrained(model_name)\n",
        "      self.max_len = max_len\n",
        "      self.label_map = label_map\n",
        "\n",
        "\n",
        "    def __len__(self):\n",
        "      return len(self.text)\n",
        "\n",
        "    def __getitem__(self,item):\n",
        "      text = str(self.text[item])\n",
        "      text = \" \".join(text.split())\n",
        "\n",
        "      inputs = self.tokenizer(\n",
        "          text,\n",
        "          max_length=self.max_len,\n",
        "          padding='max_length',\n",
        "          truncation=True\n",
        "      )\n",
        "      return InputFeatures(**inputs,label=self.label_map[self.target[item]])"
      ]
    },
    {
      "cell_type": "code",
      "execution_count": null,
      "metadata": {
        "colab": {
          "base_uri": "https://localhost:8080/"
        },
        "id": "mciZOFz-amkV",
        "outputId": "78f9979a-1661-4b37-fb08-4a12a12037fe"
      },
      "outputs": [],
      "source": [
        "label_map = { v:index for index, v in enumerate(selected_dataset.label_list) }\n",
        "print(label_map)\n",
        "\n",
        "train_dataset = ClassificationDataset(\n",
        "    selected_dataset.train[DATA_COLUMN].to_list(),\n",
        "    selected_dataset.train[LABEL_COLUMN].to_list(),\n",
        "    model_name,\n",
        "    max_len,\n",
        "    label_map\n",
        "  )\n",
        "test_dataset = ClassificationDataset(\n",
        "    selected_dataset.test[DATA_COLUMN].to_list(),\n",
        "    selected_dataset.test[LABEL_COLUMN].to_list(),\n",
        "    model_name,\n",
        "    max_len,\n",
        "    label_map\n",
        "  )"
      ]
    },
    {
      "cell_type": "markdown",
      "metadata": {
        "id": "XoOyOzRu8Jwo"
      },
      "source": [
        "Check the dataset output"
      ]
    },
    {
      "cell_type": "code",
      "execution_count": null,
      "metadata": {
        "colab": {
          "base_uri": "https://localhost:8080/"
        },
        "id": "bhi41co270I9",
        "outputId": "1925ca05-3cd1-4c0f-ad80-000588ad672b"
      },
      "outputs": [],
      "source": [
        "print(next(iter(train_dataset)))"
      ]
    },
    {
      "cell_type": "markdown",
      "metadata": {
        "id": "SFHzbq6p8P2C"
      },
      "source": [
        "Create a function that return a pretrained model ready to do classification"
      ]
    },
    {
      "cell_type": "code",
      "execution_count": null,
      "metadata": {
        "id": "lt7l0IxjbmNu"
      },
      "outputs": [],
      "source": [
        "def model_init():\n",
        "    return AutoModelForSequenceClassification.from_pretrained(model_name, return_dict=True, num_labels=len(label_map))"
      ]
    },
    {
      "cell_type": "markdown",
      "metadata": {
        "id": "4WCYBfiB8hIb"
      },
      "source": [
        "Define whatever metric you want here"
      ]
    },
    {
      "cell_type": "code",
      "execution_count": null,
      "metadata": {
        "id": "UYU6G4vWc5nz"
      },
      "outputs": [],
      "source": [
        "def compute_metrics(p): #p should be of type EvalPrediction\n",
        "  preds = np.argmax(p.predictions, axis=1)\n",
        "  assert len(preds) == len(p.label_ids)\n",
        "  #print(classification_report(p.label_ids,preds))\n",
        "  #print(confusion_matrix(p.label_ids,preds))\n",
        "  macro_f1 = f1_score(p.label_ids,preds,average='macro')\n",
        "  #macro_precision = precision_score(p.label_ids,preds,average='macro')\n",
        "  #macro_recall = recall_score(p.label_ids,preds,average='macro')\n",
        "  acc = accuracy_score(p.label_ids,preds)\n",
        "  return {\n",
        "      'macro_f1' : macro_f1,\n",
        "      'accuracy': acc\n",
        "  }"
      ]
    },
    {
      "cell_type": "code",
      "execution_count": null,
      "metadata": {
        "id": "HEznOOD4COn7"
      },
      "outputs": [],
      "source": [
        "def set_seed(seed=42):\n",
        "  random.seed(seed)\n",
        "  np.random.seed(seed)\n",
        "  torch.manual_seed(seed)\n",
        "  torch.cuda.manual_seed(seed)\n",
        "  torch.cuda.manual_seed_all(seed)\n",
        "  torch.backends.cudnn.deterministic=True\n",
        "  torch.backends.cudnn.benchmark = False"
      ]
    },
    {
      "cell_type": "markdown",
      "metadata": {
        "id": "vTmvFEs41WkV"
      },
      "source": [
        "#Regular Training"
      ]
    },
    {
      "cell_type": "markdown",
      "metadata": {
        "id": "hym-1aiJ8zS8"
      },
      "source": [
        "Define our training parameters.\n",
        "Check the TrainingArguments documentation for more options https://huggingface.co/transformers/main_classes/trainer.html#trainingarguments"
      ]
    },
    {
      "cell_type": "code",
      "execution_count": null,
      "metadata": {
        "colab": {
          "base_uri": "https://localhost:8080/"
        },
        "id": "BplVarm6h6qj",
        "outputId": "afac20c0-e7c9-4515-f40f-3382010c0fcb"
      },
      "outputs": [],
      "source": [
        "training_args = TrainingArguments(\n",
        "    output_dir= \"./train\",\n",
        "    adam_epsilon = 1e-8,\n",
        "    learning_rate = 2e-5,\n",
        "    fp16 = False, # enable this when using V100 or T4 GPU\n",
        "    per_device_train_batch_size = 16, # up to 64 on 16GB with max len of 128\n",
        "    per_device_eval_batch_size = 128,\n",
        "    gradient_accumulation_steps = 2, # use this to scale batch size without needing more memory\n",
        "    num_train_epochs= 2,\n",
        "    warmup_ratio = 0,\n",
        "    do_eval = True,\n",
        "    evaluation_strategy = 'epoch',\n",
        "    save_strategy = 'epoch',\n",
        "    load_best_model_at_end = True, # this allows to automatically get the best model at the end based on whatever metric we want\n",
        "    metric_for_best_model = 'macro_f1',\n",
        "    greater_is_better = True,\n",
        "    seed = 25\n",
        "  )\n",
        "\n",
        "set_seed(training_args.seed)"
      ]
    },
    {
      "cell_type": "markdown",
      "metadata": {
        "id": "pVODSK3D89OZ"
      },
      "source": [
        "Create the trainer"
      ]
    },
    {
      "cell_type": "code",
      "execution_count": null,
      "metadata": {
        "colab": {
          "base_uri": "https://localhost:8080/"
        },
        "id": "Ro5BW5ak4uc1",
        "outputId": "2ef45db5-63be-4578-9b8a-fa1d8a016307"
      },
      "outputs": [],
      "source": [
        "trainer = Trainer(\n",
        "    model = model_init(),\n",
        "    args = training_args,\n",
        "    train_dataset = train_dataset,\n",
        "    eval_dataset=test_dataset,\n",
        "    compute_metrics=compute_metrics,\n",
        ")"
      ]
    },
    {
      "cell_type": "code",
      "execution_count": null,
      "metadata": {
        "colab": {
          "base_uri": "https://localhost:8080/",
          "height": 599
        },
        "id": "mxqoZsFWSFso",
        "outputId": "f62895d3-3f29-4a42-cc05-94cb6c68ae70"
      },
      "outputs": [],
      "source": [
        "#start the training\n",
        "trainer.train()"
      ]
    },
    {
      "cell_type": "markdown",
      "metadata": {
        "id": "PZJE_H0j-ldm"
      },
      "source": [
        "Save the model, the tokenizer and the config"
      ]
    },
    {
      "cell_type": "code",
      "execution_count": null,
      "metadata": {
        "colab": {
          "base_uri": "https://localhost:8080/"
        },
        "id": "7pru84em-lMR",
        "outputId": "4660f75f-4538-45bd-ae30-ae63ec3c493e"
      },
      "outputs": [],
      "source": [
        "inv_label_map = inv_label_map = { v:k for k, v in label_map.items()}\n",
        "print(inv_label_map)\n",
        "trainer.model.config.label2id = label_map\n",
        "trainer.model.config.id2label = inv_label_map\n",
        "trainer.save_model(\"output_dir\")\n",
        "train_dataset.tokenizer.save_pretrained(\"output_dir\")"
      ]
    },
    {
      "cell_type": "code",
      "execution_count": null,
      "metadata": {
        "id": "Ckb8jYZu_pCu"
      },
      "outputs": [],
      "source": [
        "#copy the model to drive\n",
        "!cp output_dir /content/drive/MyDrive"
      ]
    },
    {
      "cell_type": "markdown",
      "metadata": {
        "id": "RaDLMebgF8EE"
      },
      "source": [
        "## predict using the saved model"
      ]
    },
    {
      "cell_type": "code",
      "execution_count": null,
      "metadata": {
        "id": "TFqMbH5uF-TR"
      },
      "outputs": [],
      "source": [
        "from transformers import pipeline"
      ]
    },
    {
      "cell_type": "code",
      "execution_count": null,
      "metadata": {
        "id": "Mx4k9zqkF7Wb"
      },
      "outputs": [],
      "source": [
        "# initialize pipline\n",
        "pipe = pipeline(\"sentiment-analysis\", model=\"output_dir\", device=0, return_all_scores=True)"
      ]
    },
    {
      "cell_type": "code",
      "execution_count": null,
      "metadata": {
        "id": "_ecQR0_tGDQ0"
      },
      "outputs": [],
      "source": [
        "pipe(\"Some Text\")"
      ]
    },
    {
      "cell_type": "markdown",
      "metadata": {
        "id": "NcMplCCFUPBP"
      },
      "source": [
        "# K-fold"
      ]
    },
    {
      "cell_type": "markdown",
      "metadata": {
        "id": "Dr3tPLSB_vSN"
      },
      "source": [
        "This section is bit more advanced.\n",
        "\n",
        "We will divide the training set into K-folds and train model with cross-validation to check for the best hyper-parameters before check the performance on the test set.\n",
        "\n",
        "Alternatively, you can combine the training and testing set if you are participating in a competition, then ensemble the output models"
      ]
    },
    {
      "cell_type": "code",
      "execution_count": null,
      "metadata": {
        "id": "3vpem-JlUS8W"
      },
      "outputs": [],
      "source": [
        "# do kfold on the training. Check the perfomance on the test set\n",
        "kfold_dataset = selected_dataset.train\n",
        "# do kfold on all the dataset. Here we will not have any dataset to checl final performance on (this is used mainly in competitions)\n",
        "# kfold_dataset = pd.concat([selected_dataset.train,selected_dataset.test])\n",
        "kfold_dataset.reset_index(inplace=True,drop=True)"
      ]
    },
    {
      "cell_type": "code",
      "execution_count": null,
      "metadata": {
        "id": "zhpJcw3YUuh9"
      },
      "outputs": [],
      "source": [
        "# this is used later\n",
        "inv_label_map = { v:k for k, v in label_map.items()}"
      ]
    },
    {
      "cell_type": "markdown",
      "metadata": {
        "id": "5DGjYvn7BBUg"
      },
      "source": [
        "Defing the number of Stratified kfold splits"
      ]
    },
    {
      "cell_type": "code",
      "execution_count": null,
      "metadata": {
        "id": "eOmi63psUS8X"
      },
      "outputs": [],
      "source": [
        "from sklearn.model_selection import StratifiedKFold\n",
        "\n",
        "kf = StratifiedKFold(\n",
        "    n_splits=5,\n",
        "    shuffle=True,\n",
        "    random_state=123\n",
        "  )"
      ]
    },
    {
      "cell_type": "markdown",
      "metadata": {
        "id": "kF2JYbkSC8KA"
      },
      "source": [
        "Train using cross validation and save the best model at each fold"
      ]
    },
    {
      "cell_type": "code",
      "execution_count": null,
      "metadata": {
        "colab": {
          "base_uri": "https://localhost:8080/",
          "height": 1000
        },
        "id": "rHUsDFTeUyKr",
        "outputId": "124b2da7-cdec-4682-d081-1b9edd16ac31"
      },
      "outputs": [],
      "source": [
        "all_results = []\n",
        "fold_best_f1 = 0\n",
        "best_fold = None\n",
        "for fold_num , (train, dev) in enumerate(kf.split(kfold_dataset,kfold_dataset['label'])):\n",
        "  print(\"**************************Starting Fold Num: \", fold_num,\" **************************\")\n",
        "\n",
        "  train_dataset = ClassificationDataset(list(kfold_dataset[DATA_COLUMN][train]),\n",
        "                              list(kfold_dataset[LABEL_COLUMN][train]),\n",
        "                              model_name,\n",
        "                              max_len,\n",
        "                              label_map)\n",
        "\n",
        "  val_dataset = ClassificationDataset(list(kfold_dataset[DATA_COLUMN][dev]),\n",
        "                              list(kfold_dataset[LABEL_COLUMN][dev]),\n",
        "                              model_name,\n",
        "                              max_len,\n",
        "                              label_map)\n",
        "\n",
        "  training_args = TrainingArguments(\n",
        "    output_dir= f\"./train_{fold_num}\",\n",
        "    adam_epsilon = 1e-8,\n",
        "    learning_rate = 2e-5,\n",
        "    fp16 = False,\n",
        "    per_device_train_batch_size = 64,\n",
        "    per_device_eval_batch_size = 128,\n",
        "    gradient_accumulation_steps = 2,\n",
        "    num_train_epochs= 2,\n",
        "    warmup_ratio = 0,\n",
        "    do_eval = True,\n",
        "    evaluation_strategy = 'epoch',\n",
        "    save_strategy = 'epoch',\n",
        "    load_best_model_at_end = True,\n",
        "    metric_for_best_model = 'macro_f1',\n",
        "    greater_is_better = True,\n",
        "    seed = 123\n",
        "  )\n",
        "\n",
        "  set_seed(training_args.seed)\n",
        "\n",
        "  trainer = Trainer(\n",
        "    model = model_init(),\n",
        "    args = training_args,\n",
        "    train_dataset = train_dataset,\n",
        "    eval_dataset=val_dataset,\n",
        "    compute_metrics=compute_metrics,\n",
        "  )\n",
        "  trainer.model.config.label2id = label_map\n",
        "  trainer.model.config.id2label = inv_label_map\n",
        "\n",
        "  trainer.train()\n",
        "\n",
        "  results = trainer.evaluate()\n",
        "  all_results.append(results)\n",
        "  print(results)\n",
        "\n",
        "  trainer.save_model(f\"./train_{fold_num}/best_model\")\n",
        "  val_dataset.tokenizer.save_pretrained(f\"./train_{fold_num}/best_model\")\n",
        "\n",
        "  # delete the rest of the checkpoints\n",
        "  !rm -rf f\"./train_{fold_num}/checkpoint-*\"\n",
        "\n",
        "  if results['eval_macro_f1'] > fold_best_f1:\n",
        "    print('**************************New Best Model Found!**************************')\n",
        "    fold_best_f1 = results['eval_macro_f1']\n",
        "    best_fold = fold_num"
      ]
    },
    {
      "cell_type": "code",
      "execution_count": null,
      "metadata": {
        "colab": {
          "base_uri": "https://localhost:8080/"
        },
        "id": "JTouNECWprWI",
        "outputId": "98e8b471-215a-48b3-c717-c6b4ed72a99a"
      },
      "outputs": [],
      "source": [
        "all_results"
      ]
    },
    {
      "cell_type": "code",
      "execution_count": null,
      "metadata": {
        "colab": {
          "base_uri": "https://localhost:8080/"
        },
        "id": "1yBbzQcCqb1m",
        "outputId": "4a080008-1941-44c3-bacf-84765b71304c"
      },
      "outputs": [],
      "source": [
        "from statistics import mean\n",
        "mean([x['eval_macro_f1'] for x in all_results])"
      ]
    },
    {
      "cell_type": "markdown",
      "metadata": {
        "id": "LX7sa1AlGpba"
      },
      "source": [
        "After checking for the best hyper parameters you should use the regular training section and retrain the model with the parameters that you had here.\n",
        "\n",
        "Or Ensemble the models together."
      ]
    },
    {
      "cell_type": "markdown",
      "metadata": {
        "id": "qvaIKiGcEl3K"
      },
      "source": [
        "## Ensemble all the cross validation models"
      ]
    },
    {
      "cell_type": "code",
      "execution_count": null,
      "metadata": {
        "id": "LRvWyT6iY1gt"
      },
      "outputs": [],
      "source": [
        "from transformers import pipeline\n",
        "import more_itertools"
      ]
    },
    {
      "cell_type": "code",
      "execution_count": null,
      "metadata": {
        "id": "TbsAt4d3veZH"
      },
      "outputs": [],
      "source": [
        "inv_label_map = { v:k for k, v in label_map.items()}"
      ]
    },
    {
      "cell_type": "markdown",
      "metadata": {
        "id": "-9X02dm4LDFc"
      },
      "source": [
        "Load some file which has text that we need to run inference on.\n",
        "I will use the test set for that"
      ]
    },
    {
      "cell_type": "code",
      "execution_count": null,
      "metadata": {
        "id": "Wa5QeMo0p6-G"
      },
      "outputs": [],
      "source": [
        "# pred_df = prediction['Text']\n",
        "# pred_df = pred_df.apply(lambda x:   arabic_prep.preprocess(x))\n",
        "\n",
        "pred_df = selected_dataset.test[DATA_COLUMN]"
      ]
    },
    {
      "cell_type": "code",
      "execution_count": null,
      "metadata": {
        "colab": {
          "base_uri": "https://localhost:8080/",
          "height": 1000,
          "referenced_widgets": [
            "62a57fd8062944db93359a2e1ddc1abe",
            "2f6fcc0c5e8946b09cf58d74165d167c",
            "087588d3d51547c9bf5fb3b63a0a9cfe",
            "e81d9af57edd4954ab98b7b3dca73c74",
            "9e005c9290564cf3beb20395cd1ab8e5",
            "993ef5394810417580ad997dab3498a0",
            "891a865614e74373a13e1c1d29c8651b",
            "38694796ad3c4165a5772b33209083e7",
            "1aff872eec804605acd23ca1abb9ee81",
            "c4ae442a58644efcb7b068db6fad0769",
            "74b4c67449d14312a1f252fd96ba2b75",
            "9d36efebb05a4ab2abf160c921dc4171",
            "ab305704cf4741bb955924128138ddab",
            "8f4e1f522c374eef99f83961bb09196e",
            "5f3d88146ab043a6ba58087bec565606",
            "8bb3617b1f9b4165b1cff3b3e559ade3",
            "f19d72d8ca5041a08a3830af2c92baaf",
            "c754dbd2e7f44ba6a317a94ebe9fd920",
            "fb665d0be4aa41be9d8a292c1eb205ed",
            "006c86f351574506ab693cc51b7d9ea6",
            "8a74b97838bd4da4a1edde74f47c4376",
            "474a888bb90d461d8a96ba9f0193fad1",
            "8478a9ccb3014e7bbb151ee8736a47c7",
            "f5940bce2e2f4c56a96241f066d29799",
            "5fadb32a28224a278b33146723c7918b",
            "18d73fd8dfe943958c933a0784e9dc9f",
            "569b73456ec94f0c876a0be3f0745935",
            "1e098bcc9918412593484955f75776a3",
            "08ae8a75c4c34b838258fad82a0bcbac",
            "276d9b33a628409d8e1920cc4b3dca0a",
            "7685e22a7af94c95b1596d8f3867341f",
            "aea7294a5aca49dc9f0a9874076f4f3f",
            "1929647f37c74976959b0ce13968b042",
            "4ac15eb0baee481e9e02296150044650",
            "5f8e7134c7ab4060a72dba5ad622a467",
            "8c4e51e25c34473b8ab85f54b41347dc",
            "3e27bd2901ec4216ae6871073b4a0152",
            "38daee9d702949b994e664d39d6fc4d8",
            "0718a91894ba49e6a901ab7f6ef7ccb4",
            "b1d0855e6d4a42b8a279302f25c1fee4",
            "38d286e3701e4f2587b2d43198979282",
            "826a95b202194bddbc095452564799ff",
            "700a4f66e14e4147b4b7cb8ca1348b79",
            "7002a4fdaad64397a8c662bd5eeeb85f",
            "5fa3e27eef9e47e584f00830e46ce015",
            "0000bfa49c474cc1b95531e9ff8383f9",
            "90de46b552be45f68efc7a6f15c2073b",
            "9f3bf808eed44f669d23d65fcc43c322",
            "a72d226478584d6c9e3f0596cb8148ce",
            "3f5305b3ccbc45148fcccf53adf6a142",
            "214f06c6950548f2a77ab855b71bfed1",
            "5fe17f656afb43deac9aae90ef0dc1d8",
            "f5c49644401b4ef68ede379fc844dda6",
            "75552ce3f5444680b62a17644ca1dfb5",
            "4f07eb2326fc47bb8ba27901189ee927"
          ]
        },
        "id": "6wyQDPxBVbfB",
        "outputId": "edd78305-296e-4568-8688-c286e2d1ba13"
      },
      "outputs": [],
      "source": [
        "cross_val_df = pd.DataFrame([])\n",
        "for i in range(0,5):\n",
        "  pipe = pipeline(\"sentiment-analysis\", model=f\"train_{i}/best_model\", device=0, return_all_scores =True, max_length=max_len, truncation=True)\n",
        "  preds = []\n",
        "  for s in tqdm(more_itertools.chunked(list(pred_df), 32)): # batching for faster inference\n",
        "    preds.extend(pipe(s))\n",
        "  cross_val_df[f'model_{i}'] = preds"
      ]
    },
    {
      "cell_type": "code",
      "execution_count": null,
      "metadata": {
        "id": "fj6cF1Tzsk73"
      },
      "outputs": [],
      "source": [
        "from collections import defaultdict\n",
        "\n",
        "final_labels = []\n",
        "final_scores = []\n",
        "for id, row in cross_val_df.iterrows():\n",
        "  total_score = defaultdict(lambda: 0)\n",
        "  for pred in row:\n",
        "    for cls in pred:\n",
        "      total_score[cls['label']] += cls['score']\n",
        "\n",
        "  avg_score = { k: v/ 5 for k, v in total_score.items()}\n",
        "\n",
        "  final_labels.append(max(avg_score, key=avg_score.get))\n",
        "  final_scores.append(avg_score[max(avg_score, key=avg_score.get)])"
      ]
    },
    {
      "cell_type": "code",
      "execution_count": null,
      "metadata": {
        "id": "cZzeOZ2HvhtT"
      },
      "outputs": [],
      "source": [
        "cross_val_df['preds'] = final_labels\n",
        "cross_val_df['sentiment_score'] = final_scores"
      ]
    },
    {
      "cell_type": "code",
      "execution_count": null,
      "metadata": {
        "colab": {
          "base_uri": "https://localhost:8080/"
        },
        "id": "iKEgO6XYcnal",
        "outputId": "e78dff2b-6c00-41d9-a5cf-4ba41f1a933a"
      },
      "outputs": [],
      "source": [
        "cross_val_df['preds'].value_counts()"
      ]
    },
    {
      "cell_type": "code",
      "execution_count": null,
      "metadata": {
        "colab": {
          "base_uri": "https://localhost:8080/"
        },
        "id": "lt1dbA9rRx8f",
        "outputId": "dec5f0cb-c241-4234-adf6-a51c624de5e7"
      },
      "outputs": [],
      "source": [
        "print(classification_report(selected_dataset.test[LABEL_COLUMN],cross_val_df['preds']))"
      ]
    }
  ],
  "metadata": {
    "accelerator": "GPU",
    "colab": {
      "collapsed_sections": [
        "TVay9KamnC3I",
        "joWPYWGMqLau",
        "sycNXzvgr7BZ",
        "bgmdEZhgssMM",
        "5EZF6bJbtq5X",
        "MA5607R9jU3a",
        "AANFYzSruvH9",
        "blL_Z_oQ2gY9",
        "Bcwdslw7v0Q8"
      ],
      "machine_shape": "hm",
      "provenance": []
    },
    "kernelspec": {
      "display_name": "Python 3",
      "name": "python3"
    },
    "language_info": {
      "codemirror_mode": {
        "name": "ipython",
        "version": 3
      },
      "file_extension": ".py",
      "mimetype": "text/x-python",
      "name": "python",
      "nbconvert_exporter": "python",
      "pygments_lexer": "ipython3",
      "version": "3.11.0"
    },
    "widgets": {
      "application/vnd.jupyter.widget-state+json": {
        "0000bfa49c474cc1b95531e9ff8383f9": {
          "model_module": "@jupyter-widgets/base",
          "model_module_version": "1.2.0",
          "model_name": "LayoutModel",
          "state": {
            "_model_module": "@jupyter-widgets/base",
            "_model_module_version": "1.2.0",
            "_model_name": "LayoutModel",
            "_view_count": null,
            "_view_module": "@jupyter-widgets/base",
            "_view_module_version": "1.2.0",
            "_view_name": "LayoutView",
            "align_content": null,
            "align_items": null,
            "align_self": null,
            "border": null,
            "bottom": null,
            "display": null,
            "flex": null,
            "flex_flow": null,
            "grid_area": null,
            "grid_auto_columns": null,
            "grid_auto_flow": null,
            "grid_auto_rows": null,
            "grid_column": null,
            "grid_gap": null,
            "grid_row": null,
            "grid_template_areas": null,
            "grid_template_columns": null,
            "grid_template_rows": null,
            "height": null,
            "justify_content": null,
            "justify_items": null,
            "left": null,
            "margin": null,
            "max_height": null,
            "max_width": null,
            "min_height": null,
            "min_width": null,
            "object_fit": null,
            "object_position": null,
            "order": null,
            "overflow": null,
            "overflow_x": null,
            "overflow_y": null,
            "padding": null,
            "right": null,
            "top": null,
            "visibility": null,
            "width": null
          }
        },
        "006c86f351574506ab693cc51b7d9ea6": {
          "model_module": "@jupyter-widgets/base",
          "model_module_version": "1.2.0",
          "model_name": "LayoutModel",
          "state": {
            "_model_module": "@jupyter-widgets/base",
            "_model_module_version": "1.2.0",
            "_model_name": "LayoutModel",
            "_view_count": null,
            "_view_module": "@jupyter-widgets/base",
            "_view_module_version": "1.2.0",
            "_view_name": "LayoutView",
            "align_content": null,
            "align_items": null,
            "align_self": null,
            "border": null,
            "bottom": null,
            "display": null,
            "flex": null,
            "flex_flow": null,
            "grid_area": null,
            "grid_auto_columns": null,
            "grid_auto_flow": null,
            "grid_auto_rows": null,
            "grid_column": null,
            "grid_gap": null,
            "grid_row": null,
            "grid_template_areas": null,
            "grid_template_columns": null,
            "grid_template_rows": null,
            "height": null,
            "justify_content": null,
            "justify_items": null,
            "left": null,
            "margin": null,
            "max_height": null,
            "max_width": null,
            "min_height": null,
            "min_width": null,
            "object_fit": null,
            "object_position": null,
            "order": null,
            "overflow": null,
            "overflow_x": null,
            "overflow_y": null,
            "padding": null,
            "right": null,
            "top": null,
            "visibility": null,
            "width": "20px"
          }
        },
        "0718a91894ba49e6a901ab7f6ef7ccb4": {
          "model_module": "@jupyter-widgets/controls",
          "model_module_version": "1.5.0",
          "model_name": "DescriptionStyleModel",
          "state": {
            "_model_module": "@jupyter-widgets/controls",
            "_model_module_version": "1.5.0",
            "_model_name": "DescriptionStyleModel",
            "_view_count": null,
            "_view_module": "@jupyter-widgets/base",
            "_view_module_version": "1.2.0",
            "_view_name": "StyleView",
            "description_width": ""
          }
        },
        "087588d3d51547c9bf5fb3b63a0a9cfe": {
          "model_module": "@jupyter-widgets/controls",
          "model_module_version": "1.5.0",
          "model_name": "HTMLModel",
          "state": {
            "_dom_classes": [],
            "_model_module": "@jupyter-widgets/controls",
            "_model_module_version": "1.5.0",
            "_model_name": "HTMLModel",
            "_view_count": null,
            "_view_module": "@jupyter-widgets/controls",
            "_view_module_version": "1.5.0",
            "_view_name": "HTMLView",
            "description": "",
            "description_tooltip": null,
            "layout": "IPY_MODEL_891a865614e74373a13e1c1d29c8651b",
            "placeholder": "​",
            "style": "IPY_MODEL_993ef5394810417580ad997dab3498a0",
            "value": ""
          }
        },
        "08ae8a75c4c34b838258fad82a0bcbac": {
          "model_module": "@jupyter-widgets/base",
          "model_module_version": "1.2.0",
          "model_name": "LayoutModel",
          "state": {
            "_model_module": "@jupyter-widgets/base",
            "_model_module_version": "1.2.0",
            "_model_name": "LayoutModel",
            "_view_count": null,
            "_view_module": "@jupyter-widgets/base",
            "_view_module_version": "1.2.0",
            "_view_name": "LayoutView",
            "align_content": null,
            "align_items": null,
            "align_self": null,
            "border": null,
            "bottom": null,
            "display": null,
            "flex": null,
            "flex_flow": null,
            "grid_area": null,
            "grid_auto_columns": null,
            "grid_auto_flow": null,
            "grid_auto_rows": null,
            "grid_column": null,
            "grid_gap": null,
            "grid_row": null,
            "grid_template_areas": null,
            "grid_template_columns": null,
            "grid_template_rows": null,
            "height": null,
            "justify_content": null,
            "justify_items": null,
            "left": null,
            "margin": null,
            "max_height": null,
            "max_width": null,
            "min_height": null,
            "min_width": null,
            "object_fit": null,
            "object_position": null,
            "order": null,
            "overflow": null,
            "overflow_x": null,
            "overflow_y": null,
            "padding": null,
            "right": null,
            "top": null,
            "visibility": null,
            "width": null
          }
        },
        "18d73fd8dfe943958c933a0784e9dc9f": {
          "model_module": "@jupyter-widgets/controls",
          "model_module_version": "1.5.0",
          "model_name": "FloatProgressModel",
          "state": {
            "_dom_classes": [],
            "_model_module": "@jupyter-widgets/controls",
            "_model_module_version": "1.5.0",
            "_model_name": "FloatProgressModel",
            "_view_count": null,
            "_view_module": "@jupyter-widgets/controls",
            "_view_module_version": "1.5.0",
            "_view_name": "ProgressView",
            "bar_style": "success",
            "description": "",
            "description_tooltip": null,
            "layout": "IPY_MODEL_7685e22a7af94c95b1596d8f3867341f",
            "max": 1,
            "min": 0,
            "orientation": "horizontal",
            "style": "IPY_MODEL_276d9b33a628409d8e1920cc4b3dca0a",
            "value": 1
          }
        },
        "1929647f37c74976959b0ce13968b042": {
          "model_module": "@jupyter-widgets/base",
          "model_module_version": "1.2.0",
          "model_name": "LayoutModel",
          "state": {
            "_model_module": "@jupyter-widgets/base",
            "_model_module_version": "1.2.0",
            "_model_name": "LayoutModel",
            "_view_count": null,
            "_view_module": "@jupyter-widgets/base",
            "_view_module_version": "1.2.0",
            "_view_name": "LayoutView",
            "align_content": null,
            "align_items": null,
            "align_self": null,
            "border": null,
            "bottom": null,
            "display": null,
            "flex": null,
            "flex_flow": null,
            "grid_area": null,
            "grid_auto_columns": null,
            "grid_auto_flow": null,
            "grid_auto_rows": null,
            "grid_column": null,
            "grid_gap": null,
            "grid_row": null,
            "grid_template_areas": null,
            "grid_template_columns": null,
            "grid_template_rows": null,
            "height": null,
            "justify_content": null,
            "justify_items": null,
            "left": null,
            "margin": null,
            "max_height": null,
            "max_width": null,
            "min_height": null,
            "min_width": null,
            "object_fit": null,
            "object_position": null,
            "order": null,
            "overflow": null,
            "overflow_x": null,
            "overflow_y": null,
            "padding": null,
            "right": null,
            "top": null,
            "visibility": null,
            "width": null
          }
        },
        "1aff872eec804605acd23ca1abb9ee81": {
          "model_module": "@jupyter-widgets/base",
          "model_module_version": "1.2.0",
          "model_name": "LayoutModel",
          "state": {
            "_model_module": "@jupyter-widgets/base",
            "_model_module_version": "1.2.0",
            "_model_name": "LayoutModel",
            "_view_count": null,
            "_view_module": "@jupyter-widgets/base",
            "_view_module_version": "1.2.0",
            "_view_name": "LayoutView",
            "align_content": null,
            "align_items": null,
            "align_self": null,
            "border": null,
            "bottom": null,
            "display": null,
            "flex": null,
            "flex_flow": null,
            "grid_area": null,
            "grid_auto_columns": null,
            "grid_auto_flow": null,
            "grid_auto_rows": null,
            "grid_column": null,
            "grid_gap": null,
            "grid_row": null,
            "grid_template_areas": null,
            "grid_template_columns": null,
            "grid_template_rows": null,
            "height": null,
            "justify_content": null,
            "justify_items": null,
            "left": null,
            "margin": null,
            "max_height": null,
            "max_width": null,
            "min_height": null,
            "min_width": null,
            "object_fit": null,
            "object_position": null,
            "order": null,
            "overflow": null,
            "overflow_x": null,
            "overflow_y": null,
            "padding": null,
            "right": null,
            "top": null,
            "visibility": null,
            "width": "20px"
          }
        },
        "1e098bcc9918412593484955f75776a3": {
          "model_module": "@jupyter-widgets/controls",
          "model_module_version": "1.5.0",
          "model_name": "DescriptionStyleModel",
          "state": {
            "_model_module": "@jupyter-widgets/controls",
            "_model_module_version": "1.5.0",
            "_model_name": "DescriptionStyleModel",
            "_view_count": null,
            "_view_module": "@jupyter-widgets/base",
            "_view_module_version": "1.2.0",
            "_view_name": "StyleView",
            "description_width": ""
          }
        },
        "214f06c6950548f2a77ab855b71bfed1": {
          "model_module": "@jupyter-widgets/base",
          "model_module_version": "1.2.0",
          "model_name": "LayoutModel",
          "state": {
            "_model_module": "@jupyter-widgets/base",
            "_model_module_version": "1.2.0",
            "_model_name": "LayoutModel",
            "_view_count": null,
            "_view_module": "@jupyter-widgets/base",
            "_view_module_version": "1.2.0",
            "_view_name": "LayoutView",
            "align_content": null,
            "align_items": null,
            "align_self": null,
            "border": null,
            "bottom": null,
            "display": null,
            "flex": null,
            "flex_flow": null,
            "grid_area": null,
            "grid_auto_columns": null,
            "grid_auto_flow": null,
            "grid_auto_rows": null,
            "grid_column": null,
            "grid_gap": null,
            "grid_row": null,
            "grid_template_areas": null,
            "grid_template_columns": null,
            "grid_template_rows": null,
            "height": null,
            "justify_content": null,
            "justify_items": null,
            "left": null,
            "margin": null,
            "max_height": null,
            "max_width": null,
            "min_height": null,
            "min_width": null,
            "object_fit": null,
            "object_position": null,
            "order": null,
            "overflow": null,
            "overflow_x": null,
            "overflow_y": null,
            "padding": null,
            "right": null,
            "top": null,
            "visibility": null,
            "width": null
          }
        },
        "276d9b33a628409d8e1920cc4b3dca0a": {
          "model_module": "@jupyter-widgets/controls",
          "model_module_version": "1.5.0",
          "model_name": "ProgressStyleModel",
          "state": {
            "_model_module": "@jupyter-widgets/controls",
            "_model_module_version": "1.5.0",
            "_model_name": "ProgressStyleModel",
            "_view_count": null,
            "_view_module": "@jupyter-widgets/base",
            "_view_module_version": "1.2.0",
            "_view_name": "StyleView",
            "bar_color": null,
            "description_width": ""
          }
        },
        "2f6fcc0c5e8946b09cf58d74165d167c": {
          "model_module": "@jupyter-widgets/base",
          "model_module_version": "1.2.0",
          "model_name": "LayoutModel",
          "state": {
            "_model_module": "@jupyter-widgets/base",
            "_model_module_version": "1.2.0",
            "_model_name": "LayoutModel",
            "_view_count": null,
            "_view_module": "@jupyter-widgets/base",
            "_view_module_version": "1.2.0",
            "_view_name": "LayoutView",
            "align_content": null,
            "align_items": null,
            "align_self": null,
            "border": null,
            "bottom": null,
            "display": null,
            "flex": null,
            "flex_flow": null,
            "grid_area": null,
            "grid_auto_columns": null,
            "grid_auto_flow": null,
            "grid_auto_rows": null,
            "grid_column": null,
            "grid_gap": null,
            "grid_row": null,
            "grid_template_areas": null,
            "grid_template_columns": null,
            "grid_template_rows": null,
            "height": null,
            "justify_content": null,
            "justify_items": null,
            "left": null,
            "margin": null,
            "max_height": null,
            "max_width": null,
            "min_height": null,
            "min_width": null,
            "object_fit": null,
            "object_position": null,
            "order": null,
            "overflow": null,
            "overflow_x": null,
            "overflow_y": null,
            "padding": null,
            "right": null,
            "top": null,
            "visibility": null,
            "width": null
          }
        },
        "38694796ad3c4165a5772b33209083e7": {
          "model_module": "@jupyter-widgets/controls",
          "model_module_version": "1.5.0",
          "model_name": "ProgressStyleModel",
          "state": {
            "_model_module": "@jupyter-widgets/controls",
            "_model_module_version": "1.5.0",
            "_model_name": "ProgressStyleModel",
            "_view_count": null,
            "_view_module": "@jupyter-widgets/base",
            "_view_module_version": "1.2.0",
            "_view_name": "StyleView",
            "bar_color": null,
            "description_width": ""
          }
        },
        "38d286e3701e4f2587b2d43198979282": {
          "model_module": "@jupyter-widgets/controls",
          "model_module_version": "1.5.0",
          "model_name": "ProgressStyleModel",
          "state": {
            "_model_module": "@jupyter-widgets/controls",
            "_model_module_version": "1.5.0",
            "_model_name": "ProgressStyleModel",
            "_view_count": null,
            "_view_module": "@jupyter-widgets/base",
            "_view_module_version": "1.2.0",
            "_view_name": "StyleView",
            "bar_color": null,
            "description_width": ""
          }
        },
        "38daee9d702949b994e664d39d6fc4d8": {
          "model_module": "@jupyter-widgets/controls",
          "model_module_version": "1.5.0",
          "model_name": "HTMLModel",
          "state": {
            "_dom_classes": [],
            "_model_module": "@jupyter-widgets/controls",
            "_model_module_version": "1.5.0",
            "_model_name": "HTMLModel",
            "_view_count": null,
            "_view_module": "@jupyter-widgets/controls",
            "_view_module_version": "1.5.0",
            "_view_name": "HTMLView",
            "description": "",
            "description_tooltip": null,
            "layout": "IPY_MODEL_7002a4fdaad64397a8c662bd5eeeb85f",
            "placeholder": "​",
            "style": "IPY_MODEL_700a4f66e14e4147b4b7cb8ca1348b79",
            "value": " 125/? [01:48&lt;00:00,  1.21it/s]"
          }
        },
        "3e27bd2901ec4216ae6871073b4a0152": {
          "model_module": "@jupyter-widgets/controls",
          "model_module_version": "1.5.0",
          "model_name": "FloatProgressModel",
          "state": {
            "_dom_classes": [],
            "_model_module": "@jupyter-widgets/controls",
            "_model_module_version": "1.5.0",
            "_model_name": "FloatProgressModel",
            "_view_count": null,
            "_view_module": "@jupyter-widgets/controls",
            "_view_module_version": "1.5.0",
            "_view_name": "ProgressView",
            "bar_style": "success",
            "description": "",
            "description_tooltip": null,
            "layout": "IPY_MODEL_826a95b202194bddbc095452564799ff",
            "max": 1,
            "min": 0,
            "orientation": "horizontal",
            "style": "IPY_MODEL_38d286e3701e4f2587b2d43198979282",
            "value": 1
          }
        },
        "3f5305b3ccbc45148fcccf53adf6a142": {
          "model_module": "@jupyter-widgets/controls",
          "model_module_version": "1.5.0",
          "model_name": "DescriptionStyleModel",
          "state": {
            "_model_module": "@jupyter-widgets/controls",
            "_model_module_version": "1.5.0",
            "_model_name": "DescriptionStyleModel",
            "_view_count": null,
            "_view_module": "@jupyter-widgets/base",
            "_view_module_version": "1.2.0",
            "_view_name": "StyleView",
            "description_width": ""
          }
        },
        "474a888bb90d461d8a96ba9f0193fad1": {
          "model_module": "@jupyter-widgets/base",
          "model_module_version": "1.2.0",
          "model_name": "LayoutModel",
          "state": {
            "_model_module": "@jupyter-widgets/base",
            "_model_module_version": "1.2.0",
            "_model_name": "LayoutModel",
            "_view_count": null,
            "_view_module": "@jupyter-widgets/base",
            "_view_module_version": "1.2.0",
            "_view_name": "LayoutView",
            "align_content": null,
            "align_items": null,
            "align_self": null,
            "border": null,
            "bottom": null,
            "display": null,
            "flex": null,
            "flex_flow": null,
            "grid_area": null,
            "grid_auto_columns": null,
            "grid_auto_flow": null,
            "grid_auto_rows": null,
            "grid_column": null,
            "grid_gap": null,
            "grid_row": null,
            "grid_template_areas": null,
            "grid_template_columns": null,
            "grid_template_rows": null,
            "height": null,
            "justify_content": null,
            "justify_items": null,
            "left": null,
            "margin": null,
            "max_height": null,
            "max_width": null,
            "min_height": null,
            "min_width": null,
            "object_fit": null,
            "object_position": null,
            "order": null,
            "overflow": null,
            "overflow_x": null,
            "overflow_y": null,
            "padding": null,
            "right": null,
            "top": null,
            "visibility": null,
            "width": null
          }
        },
        "4ac15eb0baee481e9e02296150044650": {
          "model_module": "@jupyter-widgets/controls",
          "model_module_version": "1.5.0",
          "model_name": "HBoxModel",
          "state": {
            "_dom_classes": [],
            "_model_module": "@jupyter-widgets/controls",
            "_model_module_version": "1.5.0",
            "_model_name": "HBoxModel",
            "_view_count": null,
            "_view_module": "@jupyter-widgets/controls",
            "_view_module_version": "1.5.0",
            "_view_name": "HBoxView",
            "box_style": "",
            "children": [
              "IPY_MODEL_8c4e51e25c34473b8ab85f54b41347dc",
              "IPY_MODEL_3e27bd2901ec4216ae6871073b4a0152",
              "IPY_MODEL_38daee9d702949b994e664d39d6fc4d8"
            ],
            "layout": "IPY_MODEL_5f8e7134c7ab4060a72dba5ad622a467"
          }
        },
        "4f07eb2326fc47bb8ba27901189ee927": {
          "model_module": "@jupyter-widgets/base",
          "model_module_version": "1.2.0",
          "model_name": "LayoutModel",
          "state": {
            "_model_module": "@jupyter-widgets/base",
            "_model_module_version": "1.2.0",
            "_model_name": "LayoutModel",
            "_view_count": null,
            "_view_module": "@jupyter-widgets/base",
            "_view_module_version": "1.2.0",
            "_view_name": "LayoutView",
            "align_content": null,
            "align_items": null,
            "align_self": null,
            "border": null,
            "bottom": null,
            "display": null,
            "flex": null,
            "flex_flow": null,
            "grid_area": null,
            "grid_auto_columns": null,
            "grid_auto_flow": null,
            "grid_auto_rows": null,
            "grid_column": null,
            "grid_gap": null,
            "grid_row": null,
            "grid_template_areas": null,
            "grid_template_columns": null,
            "grid_template_rows": null,
            "height": null,
            "justify_content": null,
            "justify_items": null,
            "left": null,
            "margin": null,
            "max_height": null,
            "max_width": null,
            "min_height": null,
            "min_width": null,
            "object_fit": null,
            "object_position": null,
            "order": null,
            "overflow": null,
            "overflow_x": null,
            "overflow_y": null,
            "padding": null,
            "right": null,
            "top": null,
            "visibility": null,
            "width": null
          }
        },
        "569b73456ec94f0c876a0be3f0745935": {
          "model_module": "@jupyter-widgets/controls",
          "model_module_version": "1.5.0",
          "model_name": "HTMLModel",
          "state": {
            "_dom_classes": [],
            "_model_module": "@jupyter-widgets/controls",
            "_model_module_version": "1.5.0",
            "_model_name": "HTMLModel",
            "_view_count": null,
            "_view_module": "@jupyter-widgets/controls",
            "_view_module_version": "1.5.0",
            "_view_name": "HTMLView",
            "description": "",
            "description_tooltip": null,
            "layout": "IPY_MODEL_1929647f37c74976959b0ce13968b042",
            "placeholder": "​",
            "style": "IPY_MODEL_aea7294a5aca49dc9f0a9874076f4f3f",
            "value": " 125/? [01:47&lt;00:00,  1.21it/s]"
          }
        },
        "5f3d88146ab043a6ba58087bec565606": {
          "model_module": "@jupyter-widgets/controls",
          "model_module_version": "1.5.0",
          "model_name": "FloatProgressModel",
          "state": {
            "_dom_classes": [],
            "_model_module": "@jupyter-widgets/controls",
            "_model_module_version": "1.5.0",
            "_model_name": "FloatProgressModel",
            "_view_count": null,
            "_view_module": "@jupyter-widgets/controls",
            "_view_module_version": "1.5.0",
            "_view_name": "ProgressView",
            "bar_style": "success",
            "description": "",
            "description_tooltip": null,
            "layout": "IPY_MODEL_006c86f351574506ab693cc51b7d9ea6",
            "max": 1,
            "min": 0,
            "orientation": "horizontal",
            "style": "IPY_MODEL_fb665d0be4aa41be9d8a292c1eb205ed",
            "value": 1
          }
        },
        "5f8e7134c7ab4060a72dba5ad622a467": {
          "model_module": "@jupyter-widgets/base",
          "model_module_version": "1.2.0",
          "model_name": "LayoutModel",
          "state": {
            "_model_module": "@jupyter-widgets/base",
            "_model_module_version": "1.2.0",
            "_model_name": "LayoutModel",
            "_view_count": null,
            "_view_module": "@jupyter-widgets/base",
            "_view_module_version": "1.2.0",
            "_view_name": "LayoutView",
            "align_content": null,
            "align_items": null,
            "align_self": null,
            "border": null,
            "bottom": null,
            "display": null,
            "flex": null,
            "flex_flow": null,
            "grid_area": null,
            "grid_auto_columns": null,
            "grid_auto_flow": null,
            "grid_auto_rows": null,
            "grid_column": null,
            "grid_gap": null,
            "grid_row": null,
            "grid_template_areas": null,
            "grid_template_columns": null,
            "grid_template_rows": null,
            "height": null,
            "justify_content": null,
            "justify_items": null,
            "left": null,
            "margin": null,
            "max_height": null,
            "max_width": null,
            "min_height": null,
            "min_width": null,
            "object_fit": null,
            "object_position": null,
            "order": null,
            "overflow": null,
            "overflow_x": null,
            "overflow_y": null,
            "padding": null,
            "right": null,
            "top": null,
            "visibility": null,
            "width": null
          }
        },
        "5fa3e27eef9e47e584f00830e46ce015": {
          "model_module": "@jupyter-widgets/controls",
          "model_module_version": "1.5.0",
          "model_name": "HBoxModel",
          "state": {
            "_dom_classes": [],
            "_model_module": "@jupyter-widgets/controls",
            "_model_module_version": "1.5.0",
            "_model_name": "HBoxModel",
            "_view_count": null,
            "_view_module": "@jupyter-widgets/controls",
            "_view_module_version": "1.5.0",
            "_view_name": "HBoxView",
            "box_style": "",
            "children": [
              "IPY_MODEL_90de46b552be45f68efc7a6f15c2073b",
              "IPY_MODEL_9f3bf808eed44f669d23d65fcc43c322",
              "IPY_MODEL_a72d226478584d6c9e3f0596cb8148ce"
            ],
            "layout": "IPY_MODEL_0000bfa49c474cc1b95531e9ff8383f9"
          }
        },
        "5fadb32a28224a278b33146723c7918b": {
          "model_module": "@jupyter-widgets/controls",
          "model_module_version": "1.5.0",
          "model_name": "HTMLModel",
          "state": {
            "_dom_classes": [],
            "_model_module": "@jupyter-widgets/controls",
            "_model_module_version": "1.5.0",
            "_model_name": "HTMLModel",
            "_view_count": null,
            "_view_module": "@jupyter-widgets/controls",
            "_view_module_version": "1.5.0",
            "_view_name": "HTMLView",
            "description": "",
            "description_tooltip": null,
            "layout": "IPY_MODEL_08ae8a75c4c34b838258fad82a0bcbac",
            "placeholder": "​",
            "style": "IPY_MODEL_1e098bcc9918412593484955f75776a3",
            "value": ""
          }
        },
        "5fe17f656afb43deac9aae90ef0dc1d8": {
          "model_module": "@jupyter-widgets/controls",
          "model_module_version": "1.5.0",
          "model_name": "ProgressStyleModel",
          "state": {
            "_model_module": "@jupyter-widgets/controls",
            "_model_module_version": "1.5.0",
            "_model_name": "ProgressStyleModel",
            "_view_count": null,
            "_view_module": "@jupyter-widgets/base",
            "_view_module_version": "1.2.0",
            "_view_name": "StyleView",
            "bar_color": null,
            "description_width": ""
          }
        },
        "62a57fd8062944db93359a2e1ddc1abe": {
          "model_module": "@jupyter-widgets/controls",
          "model_module_version": "1.5.0",
          "model_name": "HBoxModel",
          "state": {
            "_dom_classes": [],
            "_model_module": "@jupyter-widgets/controls",
            "_model_module_version": "1.5.0",
            "_model_name": "HBoxModel",
            "_view_count": null,
            "_view_module": "@jupyter-widgets/controls",
            "_view_module_version": "1.5.0",
            "_view_name": "HBoxView",
            "box_style": "",
            "children": [
              "IPY_MODEL_087588d3d51547c9bf5fb3b63a0a9cfe",
              "IPY_MODEL_e81d9af57edd4954ab98b7b3dca73c74",
              "IPY_MODEL_9e005c9290564cf3beb20395cd1ab8e5"
            ],
            "layout": "IPY_MODEL_2f6fcc0c5e8946b09cf58d74165d167c"
          }
        },
        "7002a4fdaad64397a8c662bd5eeeb85f": {
          "model_module": "@jupyter-widgets/base",
          "model_module_version": "1.2.0",
          "model_name": "LayoutModel",
          "state": {
            "_model_module": "@jupyter-widgets/base",
            "_model_module_version": "1.2.0",
            "_model_name": "LayoutModel",
            "_view_count": null,
            "_view_module": "@jupyter-widgets/base",
            "_view_module_version": "1.2.0",
            "_view_name": "LayoutView",
            "align_content": null,
            "align_items": null,
            "align_self": null,
            "border": null,
            "bottom": null,
            "display": null,
            "flex": null,
            "flex_flow": null,
            "grid_area": null,
            "grid_auto_columns": null,
            "grid_auto_flow": null,
            "grid_auto_rows": null,
            "grid_column": null,
            "grid_gap": null,
            "grid_row": null,
            "grid_template_areas": null,
            "grid_template_columns": null,
            "grid_template_rows": null,
            "height": null,
            "justify_content": null,
            "justify_items": null,
            "left": null,
            "margin": null,
            "max_height": null,
            "max_width": null,
            "min_height": null,
            "min_width": null,
            "object_fit": null,
            "object_position": null,
            "order": null,
            "overflow": null,
            "overflow_x": null,
            "overflow_y": null,
            "padding": null,
            "right": null,
            "top": null,
            "visibility": null,
            "width": null
          }
        },
        "700a4f66e14e4147b4b7cb8ca1348b79": {
          "model_module": "@jupyter-widgets/controls",
          "model_module_version": "1.5.0",
          "model_name": "DescriptionStyleModel",
          "state": {
            "_model_module": "@jupyter-widgets/controls",
            "_model_module_version": "1.5.0",
            "_model_name": "DescriptionStyleModel",
            "_view_count": null,
            "_view_module": "@jupyter-widgets/base",
            "_view_module_version": "1.2.0",
            "_view_name": "StyleView",
            "description_width": ""
          }
        },
        "74b4c67449d14312a1f252fd96ba2b75": {
          "model_module": "@jupyter-widgets/base",
          "model_module_version": "1.2.0",
          "model_name": "LayoutModel",
          "state": {
            "_model_module": "@jupyter-widgets/base",
            "_model_module_version": "1.2.0",
            "_model_name": "LayoutModel",
            "_view_count": null,
            "_view_module": "@jupyter-widgets/base",
            "_view_module_version": "1.2.0",
            "_view_name": "LayoutView",
            "align_content": null,
            "align_items": null,
            "align_self": null,
            "border": null,
            "bottom": null,
            "display": null,
            "flex": null,
            "flex_flow": null,
            "grid_area": null,
            "grid_auto_columns": null,
            "grid_auto_flow": null,
            "grid_auto_rows": null,
            "grid_column": null,
            "grid_gap": null,
            "grid_row": null,
            "grid_template_areas": null,
            "grid_template_columns": null,
            "grid_template_rows": null,
            "height": null,
            "justify_content": null,
            "justify_items": null,
            "left": null,
            "margin": null,
            "max_height": null,
            "max_width": null,
            "min_height": null,
            "min_width": null,
            "object_fit": null,
            "object_position": null,
            "order": null,
            "overflow": null,
            "overflow_x": null,
            "overflow_y": null,
            "padding": null,
            "right": null,
            "top": null,
            "visibility": null,
            "width": null
          }
        },
        "75552ce3f5444680b62a17644ca1dfb5": {
          "model_module": "@jupyter-widgets/controls",
          "model_module_version": "1.5.0",
          "model_name": "DescriptionStyleModel",
          "state": {
            "_model_module": "@jupyter-widgets/controls",
            "_model_module_version": "1.5.0",
            "_model_name": "DescriptionStyleModel",
            "_view_count": null,
            "_view_module": "@jupyter-widgets/base",
            "_view_module_version": "1.2.0",
            "_view_name": "StyleView",
            "description_width": ""
          }
        },
        "7685e22a7af94c95b1596d8f3867341f": {
          "model_module": "@jupyter-widgets/base",
          "model_module_version": "1.2.0",
          "model_name": "LayoutModel",
          "state": {
            "_model_module": "@jupyter-widgets/base",
            "_model_module_version": "1.2.0",
            "_model_name": "LayoutModel",
            "_view_count": null,
            "_view_module": "@jupyter-widgets/base",
            "_view_module_version": "1.2.0",
            "_view_name": "LayoutView",
            "align_content": null,
            "align_items": null,
            "align_self": null,
            "border": null,
            "bottom": null,
            "display": null,
            "flex": null,
            "flex_flow": null,
            "grid_area": null,
            "grid_auto_columns": null,
            "grid_auto_flow": null,
            "grid_auto_rows": null,
            "grid_column": null,
            "grid_gap": null,
            "grid_row": null,
            "grid_template_areas": null,
            "grid_template_columns": null,
            "grid_template_rows": null,
            "height": null,
            "justify_content": null,
            "justify_items": null,
            "left": null,
            "margin": null,
            "max_height": null,
            "max_width": null,
            "min_height": null,
            "min_width": null,
            "object_fit": null,
            "object_position": null,
            "order": null,
            "overflow": null,
            "overflow_x": null,
            "overflow_y": null,
            "padding": null,
            "right": null,
            "top": null,
            "visibility": null,
            "width": "20px"
          }
        },
        "826a95b202194bddbc095452564799ff": {
          "model_module": "@jupyter-widgets/base",
          "model_module_version": "1.2.0",
          "model_name": "LayoutModel",
          "state": {
            "_model_module": "@jupyter-widgets/base",
            "_model_module_version": "1.2.0",
            "_model_name": "LayoutModel",
            "_view_count": null,
            "_view_module": "@jupyter-widgets/base",
            "_view_module_version": "1.2.0",
            "_view_name": "LayoutView",
            "align_content": null,
            "align_items": null,
            "align_self": null,
            "border": null,
            "bottom": null,
            "display": null,
            "flex": null,
            "flex_flow": null,
            "grid_area": null,
            "grid_auto_columns": null,
            "grid_auto_flow": null,
            "grid_auto_rows": null,
            "grid_column": null,
            "grid_gap": null,
            "grid_row": null,
            "grid_template_areas": null,
            "grid_template_columns": null,
            "grid_template_rows": null,
            "height": null,
            "justify_content": null,
            "justify_items": null,
            "left": null,
            "margin": null,
            "max_height": null,
            "max_width": null,
            "min_height": null,
            "min_width": null,
            "object_fit": null,
            "object_position": null,
            "order": null,
            "overflow": null,
            "overflow_x": null,
            "overflow_y": null,
            "padding": null,
            "right": null,
            "top": null,
            "visibility": null,
            "width": "20px"
          }
        },
        "8478a9ccb3014e7bbb151ee8736a47c7": {
          "model_module": "@jupyter-widgets/controls",
          "model_module_version": "1.5.0",
          "model_name": "HBoxModel",
          "state": {
            "_dom_classes": [],
            "_model_module": "@jupyter-widgets/controls",
            "_model_module_version": "1.5.0",
            "_model_name": "HBoxModel",
            "_view_count": null,
            "_view_module": "@jupyter-widgets/controls",
            "_view_module_version": "1.5.0",
            "_view_name": "HBoxView",
            "box_style": "",
            "children": [
              "IPY_MODEL_5fadb32a28224a278b33146723c7918b",
              "IPY_MODEL_18d73fd8dfe943958c933a0784e9dc9f",
              "IPY_MODEL_569b73456ec94f0c876a0be3f0745935"
            ],
            "layout": "IPY_MODEL_f5940bce2e2f4c56a96241f066d29799"
          }
        },
        "891a865614e74373a13e1c1d29c8651b": {
          "model_module": "@jupyter-widgets/base",
          "model_module_version": "1.2.0",
          "model_name": "LayoutModel",
          "state": {
            "_model_module": "@jupyter-widgets/base",
            "_model_module_version": "1.2.0",
            "_model_name": "LayoutModel",
            "_view_count": null,
            "_view_module": "@jupyter-widgets/base",
            "_view_module_version": "1.2.0",
            "_view_name": "LayoutView",
            "align_content": null,
            "align_items": null,
            "align_self": null,
            "border": null,
            "bottom": null,
            "display": null,
            "flex": null,
            "flex_flow": null,
            "grid_area": null,
            "grid_auto_columns": null,
            "grid_auto_flow": null,
            "grid_auto_rows": null,
            "grid_column": null,
            "grid_gap": null,
            "grid_row": null,
            "grid_template_areas": null,
            "grid_template_columns": null,
            "grid_template_rows": null,
            "height": null,
            "justify_content": null,
            "justify_items": null,
            "left": null,
            "margin": null,
            "max_height": null,
            "max_width": null,
            "min_height": null,
            "min_width": null,
            "object_fit": null,
            "object_position": null,
            "order": null,
            "overflow": null,
            "overflow_x": null,
            "overflow_y": null,
            "padding": null,
            "right": null,
            "top": null,
            "visibility": null,
            "width": null
          }
        },
        "8a74b97838bd4da4a1edde74f47c4376": {
          "model_module": "@jupyter-widgets/controls",
          "model_module_version": "1.5.0",
          "model_name": "DescriptionStyleModel",
          "state": {
            "_model_module": "@jupyter-widgets/controls",
            "_model_module_version": "1.5.0",
            "_model_name": "DescriptionStyleModel",
            "_view_count": null,
            "_view_module": "@jupyter-widgets/base",
            "_view_module_version": "1.2.0",
            "_view_name": "StyleView",
            "description_width": ""
          }
        },
        "8bb3617b1f9b4165b1cff3b3e559ade3": {
          "model_module": "@jupyter-widgets/controls",
          "model_module_version": "1.5.0",
          "model_name": "HTMLModel",
          "state": {
            "_dom_classes": [],
            "_model_module": "@jupyter-widgets/controls",
            "_model_module_version": "1.5.0",
            "_model_name": "HTMLModel",
            "_view_count": null,
            "_view_module": "@jupyter-widgets/controls",
            "_view_module_version": "1.5.0",
            "_view_name": "HTMLView",
            "description": "",
            "description_tooltip": null,
            "layout": "IPY_MODEL_474a888bb90d461d8a96ba9f0193fad1",
            "placeholder": "​",
            "style": "IPY_MODEL_8a74b97838bd4da4a1edde74f47c4376",
            "value": " 125/? [01:45&lt;00:00,  1.24it/s]"
          }
        },
        "8c4e51e25c34473b8ab85f54b41347dc": {
          "model_module": "@jupyter-widgets/controls",
          "model_module_version": "1.5.0",
          "model_name": "HTMLModel",
          "state": {
            "_dom_classes": [],
            "_model_module": "@jupyter-widgets/controls",
            "_model_module_version": "1.5.0",
            "_model_name": "HTMLModel",
            "_view_count": null,
            "_view_module": "@jupyter-widgets/controls",
            "_view_module_version": "1.5.0",
            "_view_name": "HTMLView",
            "description": "",
            "description_tooltip": null,
            "layout": "IPY_MODEL_b1d0855e6d4a42b8a279302f25c1fee4",
            "placeholder": "​",
            "style": "IPY_MODEL_0718a91894ba49e6a901ab7f6ef7ccb4",
            "value": ""
          }
        },
        "8f4e1f522c374eef99f83961bb09196e": {
          "model_module": "@jupyter-widgets/controls",
          "model_module_version": "1.5.0",
          "model_name": "HTMLModel",
          "state": {
            "_dom_classes": [],
            "_model_module": "@jupyter-widgets/controls",
            "_model_module_version": "1.5.0",
            "_model_name": "HTMLModel",
            "_view_count": null,
            "_view_module": "@jupyter-widgets/controls",
            "_view_module_version": "1.5.0",
            "_view_name": "HTMLView",
            "description": "",
            "description_tooltip": null,
            "layout": "IPY_MODEL_c754dbd2e7f44ba6a317a94ebe9fd920",
            "placeholder": "​",
            "style": "IPY_MODEL_f19d72d8ca5041a08a3830af2c92baaf",
            "value": ""
          }
        },
        "90de46b552be45f68efc7a6f15c2073b": {
          "model_module": "@jupyter-widgets/controls",
          "model_module_version": "1.5.0",
          "model_name": "HTMLModel",
          "state": {
            "_dom_classes": [],
            "_model_module": "@jupyter-widgets/controls",
            "_model_module_version": "1.5.0",
            "_model_name": "HTMLModel",
            "_view_count": null,
            "_view_module": "@jupyter-widgets/controls",
            "_view_module_version": "1.5.0",
            "_view_name": "HTMLView",
            "description": "",
            "description_tooltip": null,
            "layout": "IPY_MODEL_214f06c6950548f2a77ab855b71bfed1",
            "placeholder": "​",
            "style": "IPY_MODEL_3f5305b3ccbc45148fcccf53adf6a142",
            "value": ""
          }
        },
        "993ef5394810417580ad997dab3498a0": {
          "model_module": "@jupyter-widgets/controls",
          "model_module_version": "1.5.0",
          "model_name": "DescriptionStyleModel",
          "state": {
            "_model_module": "@jupyter-widgets/controls",
            "_model_module_version": "1.5.0",
            "_model_name": "DescriptionStyleModel",
            "_view_count": null,
            "_view_module": "@jupyter-widgets/base",
            "_view_module_version": "1.2.0",
            "_view_name": "StyleView",
            "description_width": ""
          }
        },
        "9d36efebb05a4ab2abf160c921dc4171": {
          "model_module": "@jupyter-widgets/controls",
          "model_module_version": "1.5.0",
          "model_name": "HBoxModel",
          "state": {
            "_dom_classes": [],
            "_model_module": "@jupyter-widgets/controls",
            "_model_module_version": "1.5.0",
            "_model_name": "HBoxModel",
            "_view_count": null,
            "_view_module": "@jupyter-widgets/controls",
            "_view_module_version": "1.5.0",
            "_view_name": "HBoxView",
            "box_style": "",
            "children": [
              "IPY_MODEL_8f4e1f522c374eef99f83961bb09196e",
              "IPY_MODEL_5f3d88146ab043a6ba58087bec565606",
              "IPY_MODEL_8bb3617b1f9b4165b1cff3b3e559ade3"
            ],
            "layout": "IPY_MODEL_ab305704cf4741bb955924128138ddab"
          }
        },
        "9e005c9290564cf3beb20395cd1ab8e5": {
          "model_module": "@jupyter-widgets/controls",
          "model_module_version": "1.5.0",
          "model_name": "HTMLModel",
          "state": {
            "_dom_classes": [],
            "_model_module": "@jupyter-widgets/controls",
            "_model_module_version": "1.5.0",
            "_model_name": "HTMLModel",
            "_view_count": null,
            "_view_module": "@jupyter-widgets/controls",
            "_view_module_version": "1.5.0",
            "_view_name": "HTMLView",
            "description": "",
            "description_tooltip": null,
            "layout": "IPY_MODEL_74b4c67449d14312a1f252fd96ba2b75",
            "placeholder": "​",
            "style": "IPY_MODEL_c4ae442a58644efcb7b068db6fad0769",
            "value": " 125/? [01:43&lt;00:00,  1.27it/s]"
          }
        },
        "9f3bf808eed44f669d23d65fcc43c322": {
          "model_module": "@jupyter-widgets/controls",
          "model_module_version": "1.5.0",
          "model_name": "FloatProgressModel",
          "state": {
            "_dom_classes": [],
            "_model_module": "@jupyter-widgets/controls",
            "_model_module_version": "1.5.0",
            "_model_name": "FloatProgressModel",
            "_view_count": null,
            "_view_module": "@jupyter-widgets/controls",
            "_view_module_version": "1.5.0",
            "_view_name": "ProgressView",
            "bar_style": "success",
            "description": "",
            "description_tooltip": null,
            "layout": "IPY_MODEL_f5c49644401b4ef68ede379fc844dda6",
            "max": 1,
            "min": 0,
            "orientation": "horizontal",
            "style": "IPY_MODEL_5fe17f656afb43deac9aae90ef0dc1d8",
            "value": 1
          }
        },
        "a72d226478584d6c9e3f0596cb8148ce": {
          "model_module": "@jupyter-widgets/controls",
          "model_module_version": "1.5.0",
          "model_name": "HTMLModel",
          "state": {
            "_dom_classes": [],
            "_model_module": "@jupyter-widgets/controls",
            "_model_module_version": "1.5.0",
            "_model_name": "HTMLModel",
            "_view_count": null,
            "_view_module": "@jupyter-widgets/controls",
            "_view_module_version": "1.5.0",
            "_view_name": "HTMLView",
            "description": "",
            "description_tooltip": null,
            "layout": "IPY_MODEL_4f07eb2326fc47bb8ba27901189ee927",
            "placeholder": "​",
            "style": "IPY_MODEL_75552ce3f5444680b62a17644ca1dfb5",
            "value": " 125/? [01:51&lt;00:00,  1.17it/s]"
          }
        },
        "ab305704cf4741bb955924128138ddab": {
          "model_module": "@jupyter-widgets/base",
          "model_module_version": "1.2.0",
          "model_name": "LayoutModel",
          "state": {
            "_model_module": "@jupyter-widgets/base",
            "_model_module_version": "1.2.0",
            "_model_name": "LayoutModel",
            "_view_count": null,
            "_view_module": "@jupyter-widgets/base",
            "_view_module_version": "1.2.0",
            "_view_name": "LayoutView",
            "align_content": null,
            "align_items": null,
            "align_self": null,
            "border": null,
            "bottom": null,
            "display": null,
            "flex": null,
            "flex_flow": null,
            "grid_area": null,
            "grid_auto_columns": null,
            "grid_auto_flow": null,
            "grid_auto_rows": null,
            "grid_column": null,
            "grid_gap": null,
            "grid_row": null,
            "grid_template_areas": null,
            "grid_template_columns": null,
            "grid_template_rows": null,
            "height": null,
            "justify_content": null,
            "justify_items": null,
            "left": null,
            "margin": null,
            "max_height": null,
            "max_width": null,
            "min_height": null,
            "min_width": null,
            "object_fit": null,
            "object_position": null,
            "order": null,
            "overflow": null,
            "overflow_x": null,
            "overflow_y": null,
            "padding": null,
            "right": null,
            "top": null,
            "visibility": null,
            "width": null
          }
        },
        "aea7294a5aca49dc9f0a9874076f4f3f": {
          "model_module": "@jupyter-widgets/controls",
          "model_module_version": "1.5.0",
          "model_name": "DescriptionStyleModel",
          "state": {
            "_model_module": "@jupyter-widgets/controls",
            "_model_module_version": "1.5.0",
            "_model_name": "DescriptionStyleModel",
            "_view_count": null,
            "_view_module": "@jupyter-widgets/base",
            "_view_module_version": "1.2.0",
            "_view_name": "StyleView",
            "description_width": ""
          }
        },
        "b1d0855e6d4a42b8a279302f25c1fee4": {
          "model_module": "@jupyter-widgets/base",
          "model_module_version": "1.2.0",
          "model_name": "LayoutModel",
          "state": {
            "_model_module": "@jupyter-widgets/base",
            "_model_module_version": "1.2.0",
            "_model_name": "LayoutModel",
            "_view_count": null,
            "_view_module": "@jupyter-widgets/base",
            "_view_module_version": "1.2.0",
            "_view_name": "LayoutView",
            "align_content": null,
            "align_items": null,
            "align_self": null,
            "border": null,
            "bottom": null,
            "display": null,
            "flex": null,
            "flex_flow": null,
            "grid_area": null,
            "grid_auto_columns": null,
            "grid_auto_flow": null,
            "grid_auto_rows": null,
            "grid_column": null,
            "grid_gap": null,
            "grid_row": null,
            "grid_template_areas": null,
            "grid_template_columns": null,
            "grid_template_rows": null,
            "height": null,
            "justify_content": null,
            "justify_items": null,
            "left": null,
            "margin": null,
            "max_height": null,
            "max_width": null,
            "min_height": null,
            "min_width": null,
            "object_fit": null,
            "object_position": null,
            "order": null,
            "overflow": null,
            "overflow_x": null,
            "overflow_y": null,
            "padding": null,
            "right": null,
            "top": null,
            "visibility": null,
            "width": null
          }
        },
        "c4ae442a58644efcb7b068db6fad0769": {
          "model_module": "@jupyter-widgets/controls",
          "model_module_version": "1.5.0",
          "model_name": "DescriptionStyleModel",
          "state": {
            "_model_module": "@jupyter-widgets/controls",
            "_model_module_version": "1.5.0",
            "_model_name": "DescriptionStyleModel",
            "_view_count": null,
            "_view_module": "@jupyter-widgets/base",
            "_view_module_version": "1.2.0",
            "_view_name": "StyleView",
            "description_width": ""
          }
        },
        "c754dbd2e7f44ba6a317a94ebe9fd920": {
          "model_module": "@jupyter-widgets/base",
          "model_module_version": "1.2.0",
          "model_name": "LayoutModel",
          "state": {
            "_model_module": "@jupyter-widgets/base",
            "_model_module_version": "1.2.0",
            "_model_name": "LayoutModel",
            "_view_count": null,
            "_view_module": "@jupyter-widgets/base",
            "_view_module_version": "1.2.0",
            "_view_name": "LayoutView",
            "align_content": null,
            "align_items": null,
            "align_self": null,
            "border": null,
            "bottom": null,
            "display": null,
            "flex": null,
            "flex_flow": null,
            "grid_area": null,
            "grid_auto_columns": null,
            "grid_auto_flow": null,
            "grid_auto_rows": null,
            "grid_column": null,
            "grid_gap": null,
            "grid_row": null,
            "grid_template_areas": null,
            "grid_template_columns": null,
            "grid_template_rows": null,
            "height": null,
            "justify_content": null,
            "justify_items": null,
            "left": null,
            "margin": null,
            "max_height": null,
            "max_width": null,
            "min_height": null,
            "min_width": null,
            "object_fit": null,
            "object_position": null,
            "order": null,
            "overflow": null,
            "overflow_x": null,
            "overflow_y": null,
            "padding": null,
            "right": null,
            "top": null,
            "visibility": null,
            "width": null
          }
        },
        "e81d9af57edd4954ab98b7b3dca73c74": {
          "model_module": "@jupyter-widgets/controls",
          "model_module_version": "1.5.0",
          "model_name": "FloatProgressModel",
          "state": {
            "_dom_classes": [],
            "_model_module": "@jupyter-widgets/controls",
            "_model_module_version": "1.5.0",
            "_model_name": "FloatProgressModel",
            "_view_count": null,
            "_view_module": "@jupyter-widgets/controls",
            "_view_module_version": "1.5.0",
            "_view_name": "ProgressView",
            "bar_style": "success",
            "description": "",
            "description_tooltip": null,
            "layout": "IPY_MODEL_1aff872eec804605acd23ca1abb9ee81",
            "max": 1,
            "min": 0,
            "orientation": "horizontal",
            "style": "IPY_MODEL_38694796ad3c4165a5772b33209083e7",
            "value": 1
          }
        },
        "f19d72d8ca5041a08a3830af2c92baaf": {
          "model_module": "@jupyter-widgets/controls",
          "model_module_version": "1.5.0",
          "model_name": "DescriptionStyleModel",
          "state": {
            "_model_module": "@jupyter-widgets/controls",
            "_model_module_version": "1.5.0",
            "_model_name": "DescriptionStyleModel",
            "_view_count": null,
            "_view_module": "@jupyter-widgets/base",
            "_view_module_version": "1.2.0",
            "_view_name": "StyleView",
            "description_width": ""
          }
        },
        "f5940bce2e2f4c56a96241f066d29799": {
          "model_module": "@jupyter-widgets/base",
          "model_module_version": "1.2.0",
          "model_name": "LayoutModel",
          "state": {
            "_model_module": "@jupyter-widgets/base",
            "_model_module_version": "1.2.0",
            "_model_name": "LayoutModel",
            "_view_count": null,
            "_view_module": "@jupyter-widgets/base",
            "_view_module_version": "1.2.0",
            "_view_name": "LayoutView",
            "align_content": null,
            "align_items": null,
            "align_self": null,
            "border": null,
            "bottom": null,
            "display": null,
            "flex": null,
            "flex_flow": null,
            "grid_area": null,
            "grid_auto_columns": null,
            "grid_auto_flow": null,
            "grid_auto_rows": null,
            "grid_column": null,
            "grid_gap": null,
            "grid_row": null,
            "grid_template_areas": null,
            "grid_template_columns": null,
            "grid_template_rows": null,
            "height": null,
            "justify_content": null,
            "justify_items": null,
            "left": null,
            "margin": null,
            "max_height": null,
            "max_width": null,
            "min_height": null,
            "min_width": null,
            "object_fit": null,
            "object_position": null,
            "order": null,
            "overflow": null,
            "overflow_x": null,
            "overflow_y": null,
            "padding": null,
            "right": null,
            "top": null,
            "visibility": null,
            "width": null
          }
        },
        "f5c49644401b4ef68ede379fc844dda6": {
          "model_module": "@jupyter-widgets/base",
          "model_module_version": "1.2.0",
          "model_name": "LayoutModel",
          "state": {
            "_model_module": "@jupyter-widgets/base",
            "_model_module_version": "1.2.0",
            "_model_name": "LayoutModel",
            "_view_count": null,
            "_view_module": "@jupyter-widgets/base",
            "_view_module_version": "1.2.0",
            "_view_name": "LayoutView",
            "align_content": null,
            "align_items": null,
            "align_self": null,
            "border": null,
            "bottom": null,
            "display": null,
            "flex": null,
            "flex_flow": null,
            "grid_area": null,
            "grid_auto_columns": null,
            "grid_auto_flow": null,
            "grid_auto_rows": null,
            "grid_column": null,
            "grid_gap": null,
            "grid_row": null,
            "grid_template_areas": null,
            "grid_template_columns": null,
            "grid_template_rows": null,
            "height": null,
            "justify_content": null,
            "justify_items": null,
            "left": null,
            "margin": null,
            "max_height": null,
            "max_width": null,
            "min_height": null,
            "min_width": null,
            "object_fit": null,
            "object_position": null,
            "order": null,
            "overflow": null,
            "overflow_x": null,
            "overflow_y": null,
            "padding": null,
            "right": null,
            "top": null,
            "visibility": null,
            "width": "20px"
          }
        },
        "fb665d0be4aa41be9d8a292c1eb205ed": {
          "model_module": "@jupyter-widgets/controls",
          "model_module_version": "1.5.0",
          "model_name": "ProgressStyleModel",
          "state": {
            "_model_module": "@jupyter-widgets/controls",
            "_model_module_version": "1.5.0",
            "_model_name": "ProgressStyleModel",
            "_view_count": null,
            "_view_module": "@jupyter-widgets/base",
            "_view_module_version": "1.2.0",
            "_view_name": "StyleView",
            "bar_color": null,
            "description_width": ""
          }
        }
      }
    }
  },
  "nbformat": 4,
  "nbformat_minor": 0
}
